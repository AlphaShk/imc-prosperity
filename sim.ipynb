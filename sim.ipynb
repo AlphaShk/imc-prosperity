{
 "cells": [
  {
   "cell_type": "code",
   "execution_count": 118,
   "metadata": {},
   "outputs": [],
   "source": [
    "from datamodel import * \n",
    "# from test import Trader\n",
    "import pandas as pd\n",
    "import seaborn as sns\n",
    "import numpy as np\n",
    "\n",
    "from analysis import *"
   ]
  },
  {
   "cell_type": "code",
   "execution_count": 119,
   "metadata": {},
   "outputs": [],
   "source": [
    "prices1 = pd.read_csv('/Users/denysshkola/Downloads/round-1-island-data-bottle/prices_round_1_day_-2.csv',delimiter=';')\n",
    "prices2 = pd.read_csv('/Users/denysshkola/Downloads/round-1-island-data-bottle/prices_round_1_day_-1.csv',delimiter=';')\n",
    "prices3 = pd.read_csv('/Users/denysshkola/Downloads/round-1-island-data-bottle/prices_round_1_day_0.csv',delimiter=';')\n",
    "prices = pd.concat([prices1,prices2,prices3])"
   ]
  },
  {
   "cell_type": "code",
   "execution_count": 120,
   "metadata": {},
   "outputs": [
    {
     "data": {
      "text/html": [
       "<div>\n",
       "<style scoped>\n",
       "    .dataframe tbody tr th:only-of-type {\n",
       "        vertical-align: middle;\n",
       "    }\n",
       "\n",
       "    .dataframe tbody tr th {\n",
       "        vertical-align: top;\n",
       "    }\n",
       "\n",
       "    .dataframe thead th {\n",
       "        text-align: right;\n",
       "    }\n",
       "</style>\n",
       "<table border=\"1\" class=\"dataframe\">\n",
       "  <thead>\n",
       "    <tr style=\"text-align: right;\">\n",
       "      <th></th>\n",
       "      <th>index</th>\n",
       "      <th>day</th>\n",
       "      <th>timestamp</th>\n",
       "      <th>product</th>\n",
       "      <th>bid_price_1</th>\n",
       "      <th>bid_volume_1</th>\n",
       "      <th>bid_price_2</th>\n",
       "      <th>bid_volume_2</th>\n",
       "      <th>bid_price_3</th>\n",
       "      <th>bid_volume_3</th>\n",
       "      <th>ask_price_1</th>\n",
       "      <th>ask_volume_1</th>\n",
       "      <th>ask_price_2</th>\n",
       "      <th>ask_volume_2</th>\n",
       "      <th>ask_price_3</th>\n",
       "      <th>ask_volume_3</th>\n",
       "      <th>mid_price</th>\n",
       "      <th>profit_and_loss</th>\n",
       "    </tr>\n",
       "  </thead>\n",
       "  <tbody>\n",
       "    <tr>\n",
       "      <th>0</th>\n",
       "      <td>0</td>\n",
       "      <td>-2</td>\n",
       "      <td>0</td>\n",
       "      <td>RAINFOREST_RESIN</td>\n",
       "      <td>9996</td>\n",
       "      <td>1</td>\n",
       "      <td>9995.0</td>\n",
       "      <td>25.0</td>\n",
       "      <td>NaN</td>\n",
       "      <td>NaN</td>\n",
       "      <td>10004</td>\n",
       "      <td>1</td>\n",
       "      <td>10005.0</td>\n",
       "      <td>25.0</td>\n",
       "      <td>NaN</td>\n",
       "      <td>NaN</td>\n",
       "      <td>10000.0</td>\n",
       "      <td>0.0</td>\n",
       "    </tr>\n",
       "    <tr>\n",
       "      <th>1</th>\n",
       "      <td>1</td>\n",
       "      <td>-2</td>\n",
       "      <td>0</td>\n",
       "      <td>KELP</td>\n",
       "      <td>1998</td>\n",
       "      <td>26</td>\n",
       "      <td>NaN</td>\n",
       "      <td>NaN</td>\n",
       "      <td>NaN</td>\n",
       "      <td>NaN</td>\n",
       "      <td>2002</td>\n",
       "      <td>26</td>\n",
       "      <td>NaN</td>\n",
       "      <td>NaN</td>\n",
       "      <td>NaN</td>\n",
       "      <td>NaN</td>\n",
       "      <td>2000.0</td>\n",
       "      <td>0.0</td>\n",
       "    </tr>\n",
       "    <tr>\n",
       "      <th>2</th>\n",
       "      <td>2</td>\n",
       "      <td>-2</td>\n",
       "      <td>0</td>\n",
       "      <td>SQUID_INK</td>\n",
       "      <td>1998</td>\n",
       "      <td>26</td>\n",
       "      <td>NaN</td>\n",
       "      <td>NaN</td>\n",
       "      <td>NaN</td>\n",
       "      <td>NaN</td>\n",
       "      <td>2002</td>\n",
       "      <td>26</td>\n",
       "      <td>NaN</td>\n",
       "      <td>NaN</td>\n",
       "      <td>NaN</td>\n",
       "      <td>NaN</td>\n",
       "      <td>2000.0</td>\n",
       "      <td>0.0</td>\n",
       "    </tr>\n",
       "    <tr>\n",
       "      <th>3</th>\n",
       "      <td>3</td>\n",
       "      <td>-2</td>\n",
       "      <td>100</td>\n",
       "      <td>SQUID_INK</td>\n",
       "      <td>1999</td>\n",
       "      <td>5</td>\n",
       "      <td>1998.0</td>\n",
       "      <td>26.0</td>\n",
       "      <td>NaN</td>\n",
       "      <td>NaN</td>\n",
       "      <td>2001</td>\n",
       "      <td>20</td>\n",
       "      <td>NaN</td>\n",
       "      <td>NaN</td>\n",
       "      <td>NaN</td>\n",
       "      <td>NaN</td>\n",
       "      <td>2000.0</td>\n",
       "      <td>0.0</td>\n",
       "    </tr>\n",
       "    <tr>\n",
       "      <th>4</th>\n",
       "      <td>4</td>\n",
       "      <td>-2</td>\n",
       "      <td>100</td>\n",
       "      <td>RAINFOREST_RESIN</td>\n",
       "      <td>10000</td>\n",
       "      <td>5</td>\n",
       "      <td>9995.0</td>\n",
       "      <td>20.0</td>\n",
       "      <td>NaN</td>\n",
       "      <td>NaN</td>\n",
       "      <td>10005</td>\n",
       "      <td>20</td>\n",
       "      <td>NaN</td>\n",
       "      <td>NaN</td>\n",
       "      <td>NaN</td>\n",
       "      <td>NaN</td>\n",
       "      <td>10002.5</td>\n",
       "      <td>0.0</td>\n",
       "    </tr>\n",
       "    <tr>\n",
       "      <th>...</th>\n",
       "      <td>...</td>\n",
       "      <td>...</td>\n",
       "      <td>...</td>\n",
       "      <td>...</td>\n",
       "      <td>...</td>\n",
       "      <td>...</td>\n",
       "      <td>...</td>\n",
       "      <td>...</td>\n",
       "      <td>...</td>\n",
       "      <td>...</td>\n",
       "      <td>...</td>\n",
       "      <td>...</td>\n",
       "      <td>...</td>\n",
       "      <td>...</td>\n",
       "      <td>...</td>\n",
       "      <td>...</td>\n",
       "      <td>...</td>\n",
       "      <td>...</td>\n",
       "    </tr>\n",
       "    <tr>\n",
       "      <th>89995</th>\n",
       "      <td>29995</td>\n",
       "      <td>0</td>\n",
       "      <td>999800</td>\n",
       "      <td>KELP</td>\n",
       "      <td>2032</td>\n",
       "      <td>27</td>\n",
       "      <td>NaN</td>\n",
       "      <td>NaN</td>\n",
       "      <td>NaN</td>\n",
       "      <td>NaN</td>\n",
       "      <td>2034</td>\n",
       "      <td>1</td>\n",
       "      <td>2035.0</td>\n",
       "      <td>27.0</td>\n",
       "      <td>NaN</td>\n",
       "      <td>NaN</td>\n",
       "      <td>2033.0</td>\n",
       "      <td>0.0</td>\n",
       "    </tr>\n",
       "    <tr>\n",
       "      <th>89996</th>\n",
       "      <td>29996</td>\n",
       "      <td>0</td>\n",
       "      <td>999800</td>\n",
       "      <td>RAINFOREST_RESIN</td>\n",
       "      <td>9995</td>\n",
       "      <td>27</td>\n",
       "      <td>NaN</td>\n",
       "      <td>NaN</td>\n",
       "      <td>NaN</td>\n",
       "      <td>NaN</td>\n",
       "      <td>10005</td>\n",
       "      <td>27</td>\n",
       "      <td>NaN</td>\n",
       "      <td>NaN</td>\n",
       "      <td>NaN</td>\n",
       "      <td>NaN</td>\n",
       "      <td>10000.0</td>\n",
       "      <td>0.0</td>\n",
       "    </tr>\n",
       "    <tr>\n",
       "      <th>89997</th>\n",
       "      <td>29997</td>\n",
       "      <td>0</td>\n",
       "      <td>999900</td>\n",
       "      <td>RAINFOREST_RESIN</td>\n",
       "      <td>9996</td>\n",
       "      <td>2</td>\n",
       "      <td>9995.0</td>\n",
       "      <td>21.0</td>\n",
       "      <td>NaN</td>\n",
       "      <td>NaN</td>\n",
       "      <td>10004</td>\n",
       "      <td>2</td>\n",
       "      <td>10005.0</td>\n",
       "      <td>21.0</td>\n",
       "      <td>NaN</td>\n",
       "      <td>NaN</td>\n",
       "      <td>10000.0</td>\n",
       "      <td>0.0</td>\n",
       "    </tr>\n",
       "    <tr>\n",
       "      <th>89998</th>\n",
       "      <td>29998</td>\n",
       "      <td>0</td>\n",
       "      <td>999900</td>\n",
       "      <td>SQUID_INK</td>\n",
       "      <td>1838</td>\n",
       "      <td>23</td>\n",
       "      <td>NaN</td>\n",
       "      <td>NaN</td>\n",
       "      <td>NaN</td>\n",
       "      <td>NaN</td>\n",
       "      <td>1841</td>\n",
       "      <td>23</td>\n",
       "      <td>NaN</td>\n",
       "      <td>NaN</td>\n",
       "      <td>NaN</td>\n",
       "      <td>NaN</td>\n",
       "      <td>1839.5</td>\n",
       "      <td>0.0</td>\n",
       "    </tr>\n",
       "    <tr>\n",
       "      <th>89999</th>\n",
       "      <td>29999</td>\n",
       "      <td>0</td>\n",
       "      <td>999900</td>\n",
       "      <td>KELP</td>\n",
       "      <td>2032</td>\n",
       "      <td>23</td>\n",
       "      <td>NaN</td>\n",
       "      <td>NaN</td>\n",
       "      <td>NaN</td>\n",
       "      <td>NaN</td>\n",
       "      <td>2035</td>\n",
       "      <td>23</td>\n",
       "      <td>NaN</td>\n",
       "      <td>NaN</td>\n",
       "      <td>NaN</td>\n",
       "      <td>NaN</td>\n",
       "      <td>2033.5</td>\n",
       "      <td>0.0</td>\n",
       "    </tr>\n",
       "  </tbody>\n",
       "</table>\n",
       "<p>90000 rows × 18 columns</p>\n",
       "</div>"
      ],
      "text/plain": [
       "       index  day  timestamp           product  bid_price_1  bid_volume_1  \\\n",
       "0          0   -2          0  RAINFOREST_RESIN         9996             1   \n",
       "1          1   -2          0              KELP         1998            26   \n",
       "2          2   -2          0         SQUID_INK         1998            26   \n",
       "3          3   -2        100         SQUID_INK         1999             5   \n",
       "4          4   -2        100  RAINFOREST_RESIN        10000             5   \n",
       "...      ...  ...        ...               ...          ...           ...   \n",
       "89995  29995    0     999800              KELP         2032            27   \n",
       "89996  29996    0     999800  RAINFOREST_RESIN         9995            27   \n",
       "89997  29997    0     999900  RAINFOREST_RESIN         9996             2   \n",
       "89998  29998    0     999900         SQUID_INK         1838            23   \n",
       "89999  29999    0     999900              KELP         2032            23   \n",
       "\n",
       "       bid_price_2  bid_volume_2  bid_price_3  bid_volume_3  ask_price_1  \\\n",
       "0           9995.0          25.0          NaN           NaN        10004   \n",
       "1              NaN           NaN          NaN           NaN         2002   \n",
       "2              NaN           NaN          NaN           NaN         2002   \n",
       "3           1998.0          26.0          NaN           NaN         2001   \n",
       "4           9995.0          20.0          NaN           NaN        10005   \n",
       "...            ...           ...          ...           ...          ...   \n",
       "89995          NaN           NaN          NaN           NaN         2034   \n",
       "89996          NaN           NaN          NaN           NaN        10005   \n",
       "89997       9995.0          21.0          NaN           NaN        10004   \n",
       "89998          NaN           NaN          NaN           NaN         1841   \n",
       "89999          NaN           NaN          NaN           NaN         2035   \n",
       "\n",
       "       ask_volume_1  ask_price_2  ask_volume_2  ask_price_3  ask_volume_3  \\\n",
       "0                 1      10005.0          25.0          NaN           NaN   \n",
       "1                26          NaN           NaN          NaN           NaN   \n",
       "2                26          NaN           NaN          NaN           NaN   \n",
       "3                20          NaN           NaN          NaN           NaN   \n",
       "4                20          NaN           NaN          NaN           NaN   \n",
       "...             ...          ...           ...          ...           ...   \n",
       "89995             1       2035.0          27.0          NaN           NaN   \n",
       "89996            27          NaN           NaN          NaN           NaN   \n",
       "89997             2      10005.0          21.0          NaN           NaN   \n",
       "89998            23          NaN           NaN          NaN           NaN   \n",
       "89999            23          NaN           NaN          NaN           NaN   \n",
       "\n",
       "       mid_price  profit_and_loss  \n",
       "0        10000.0              0.0  \n",
       "1         2000.0              0.0  \n",
       "2         2000.0              0.0  \n",
       "3         2000.0              0.0  \n",
       "4        10002.5              0.0  \n",
       "...          ...              ...  \n",
       "89995     2033.0              0.0  \n",
       "89996    10000.0              0.0  \n",
       "89997    10000.0              0.0  \n",
       "89998     1839.5              0.0  \n",
       "89999     2033.5              0.0  \n",
       "\n",
       "[90000 rows x 18 columns]"
      ]
     },
     "execution_count": 120,
     "metadata": {},
     "output_type": "execute_result"
    }
   ],
   "source": [
    "prices.reset_index(inplace=True)\n",
    "prices"
   ]
  },
  {
   "cell_type": "code",
   "execution_count": 121,
   "metadata": {},
   "outputs": [],
   "source": [
    "prices.timestamp = (prices.day +2) * 1000000 + prices.timestamp"
   ]
  },
  {
   "cell_type": "code",
   "execution_count": 122,
   "metadata": {},
   "outputs": [
    {
     "data": {
      "text/html": [
       "<div>\n",
       "<style scoped>\n",
       "    .dataframe tbody tr th:only-of-type {\n",
       "        vertical-align: middle;\n",
       "    }\n",
       "\n",
       "    .dataframe tbody tr th {\n",
       "        vertical-align: top;\n",
       "    }\n",
       "\n",
       "    .dataframe thead th {\n",
       "        text-align: right;\n",
       "    }\n",
       "</style>\n",
       "<table border=\"1\" class=\"dataframe\">\n",
       "  <thead>\n",
       "    <tr style=\"text-align: right;\">\n",
       "      <th></th>\n",
       "      <th>index</th>\n",
       "      <th>day</th>\n",
       "      <th>timestamp</th>\n",
       "      <th>product</th>\n",
       "      <th>bid_price_1</th>\n",
       "      <th>bid_volume_1</th>\n",
       "      <th>bid_price_2</th>\n",
       "      <th>bid_volume_2</th>\n",
       "      <th>bid_price_3</th>\n",
       "      <th>bid_volume_3</th>\n",
       "      <th>ask_price_1</th>\n",
       "      <th>ask_volume_1</th>\n",
       "      <th>ask_price_2</th>\n",
       "      <th>ask_volume_2</th>\n",
       "      <th>ask_price_3</th>\n",
       "      <th>ask_volume_3</th>\n",
       "      <th>mid_price</th>\n",
       "      <th>profit_and_loss</th>\n",
       "    </tr>\n",
       "  </thead>\n",
       "  <tbody>\n",
       "    <tr>\n",
       "      <th>0</th>\n",
       "      <td>0</td>\n",
       "      <td>-2</td>\n",
       "      <td>0</td>\n",
       "      <td>RAINFOREST_RESIN</td>\n",
       "      <td>9996</td>\n",
       "      <td>1</td>\n",
       "      <td>9995.0</td>\n",
       "      <td>25.0</td>\n",
       "      <td>NaN</td>\n",
       "      <td>NaN</td>\n",
       "      <td>10004</td>\n",
       "      <td>1</td>\n",
       "      <td>10005.0</td>\n",
       "      <td>25.0</td>\n",
       "      <td>NaN</td>\n",
       "      <td>NaN</td>\n",
       "      <td>10000.0</td>\n",
       "      <td>0.0</td>\n",
       "    </tr>\n",
       "    <tr>\n",
       "      <th>1</th>\n",
       "      <td>1</td>\n",
       "      <td>-2</td>\n",
       "      <td>0</td>\n",
       "      <td>KELP</td>\n",
       "      <td>1998</td>\n",
       "      <td>26</td>\n",
       "      <td>NaN</td>\n",
       "      <td>NaN</td>\n",
       "      <td>NaN</td>\n",
       "      <td>NaN</td>\n",
       "      <td>2002</td>\n",
       "      <td>26</td>\n",
       "      <td>NaN</td>\n",
       "      <td>NaN</td>\n",
       "      <td>NaN</td>\n",
       "      <td>NaN</td>\n",
       "      <td>2000.0</td>\n",
       "      <td>0.0</td>\n",
       "    </tr>\n",
       "    <tr>\n",
       "      <th>2</th>\n",
       "      <td>2</td>\n",
       "      <td>-2</td>\n",
       "      <td>0</td>\n",
       "      <td>SQUID_INK</td>\n",
       "      <td>1998</td>\n",
       "      <td>26</td>\n",
       "      <td>NaN</td>\n",
       "      <td>NaN</td>\n",
       "      <td>NaN</td>\n",
       "      <td>NaN</td>\n",
       "      <td>2002</td>\n",
       "      <td>26</td>\n",
       "      <td>NaN</td>\n",
       "      <td>NaN</td>\n",
       "      <td>NaN</td>\n",
       "      <td>NaN</td>\n",
       "      <td>2000.0</td>\n",
       "      <td>0.0</td>\n",
       "    </tr>\n",
       "    <tr>\n",
       "      <th>3</th>\n",
       "      <td>3</td>\n",
       "      <td>-2</td>\n",
       "      <td>100</td>\n",
       "      <td>SQUID_INK</td>\n",
       "      <td>1999</td>\n",
       "      <td>5</td>\n",
       "      <td>1998.0</td>\n",
       "      <td>26.0</td>\n",
       "      <td>NaN</td>\n",
       "      <td>NaN</td>\n",
       "      <td>2001</td>\n",
       "      <td>20</td>\n",
       "      <td>NaN</td>\n",
       "      <td>NaN</td>\n",
       "      <td>NaN</td>\n",
       "      <td>NaN</td>\n",
       "      <td>2000.0</td>\n",
       "      <td>0.0</td>\n",
       "    </tr>\n",
       "    <tr>\n",
       "      <th>4</th>\n",
       "      <td>4</td>\n",
       "      <td>-2</td>\n",
       "      <td>100</td>\n",
       "      <td>RAINFOREST_RESIN</td>\n",
       "      <td>10000</td>\n",
       "      <td>5</td>\n",
       "      <td>9995.0</td>\n",
       "      <td>20.0</td>\n",
       "      <td>NaN</td>\n",
       "      <td>NaN</td>\n",
       "      <td>10005</td>\n",
       "      <td>20</td>\n",
       "      <td>NaN</td>\n",
       "      <td>NaN</td>\n",
       "      <td>NaN</td>\n",
       "      <td>NaN</td>\n",
       "      <td>10002.5</td>\n",
       "      <td>0.0</td>\n",
       "    </tr>\n",
       "    <tr>\n",
       "      <th>...</th>\n",
       "      <td>...</td>\n",
       "      <td>...</td>\n",
       "      <td>...</td>\n",
       "      <td>...</td>\n",
       "      <td>...</td>\n",
       "      <td>...</td>\n",
       "      <td>...</td>\n",
       "      <td>...</td>\n",
       "      <td>...</td>\n",
       "      <td>...</td>\n",
       "      <td>...</td>\n",
       "      <td>...</td>\n",
       "      <td>...</td>\n",
       "      <td>...</td>\n",
       "      <td>...</td>\n",
       "      <td>...</td>\n",
       "      <td>...</td>\n",
       "      <td>...</td>\n",
       "    </tr>\n",
       "    <tr>\n",
       "      <th>89995</th>\n",
       "      <td>29995</td>\n",
       "      <td>0</td>\n",
       "      <td>2999800</td>\n",
       "      <td>KELP</td>\n",
       "      <td>2032</td>\n",
       "      <td>27</td>\n",
       "      <td>NaN</td>\n",
       "      <td>NaN</td>\n",
       "      <td>NaN</td>\n",
       "      <td>NaN</td>\n",
       "      <td>2034</td>\n",
       "      <td>1</td>\n",
       "      <td>2035.0</td>\n",
       "      <td>27.0</td>\n",
       "      <td>NaN</td>\n",
       "      <td>NaN</td>\n",
       "      <td>2033.0</td>\n",
       "      <td>0.0</td>\n",
       "    </tr>\n",
       "    <tr>\n",
       "      <th>89996</th>\n",
       "      <td>29996</td>\n",
       "      <td>0</td>\n",
       "      <td>2999800</td>\n",
       "      <td>RAINFOREST_RESIN</td>\n",
       "      <td>9995</td>\n",
       "      <td>27</td>\n",
       "      <td>NaN</td>\n",
       "      <td>NaN</td>\n",
       "      <td>NaN</td>\n",
       "      <td>NaN</td>\n",
       "      <td>10005</td>\n",
       "      <td>27</td>\n",
       "      <td>NaN</td>\n",
       "      <td>NaN</td>\n",
       "      <td>NaN</td>\n",
       "      <td>NaN</td>\n",
       "      <td>10000.0</td>\n",
       "      <td>0.0</td>\n",
       "    </tr>\n",
       "    <tr>\n",
       "      <th>89997</th>\n",
       "      <td>29997</td>\n",
       "      <td>0</td>\n",
       "      <td>2999900</td>\n",
       "      <td>RAINFOREST_RESIN</td>\n",
       "      <td>9996</td>\n",
       "      <td>2</td>\n",
       "      <td>9995.0</td>\n",
       "      <td>21.0</td>\n",
       "      <td>NaN</td>\n",
       "      <td>NaN</td>\n",
       "      <td>10004</td>\n",
       "      <td>2</td>\n",
       "      <td>10005.0</td>\n",
       "      <td>21.0</td>\n",
       "      <td>NaN</td>\n",
       "      <td>NaN</td>\n",
       "      <td>10000.0</td>\n",
       "      <td>0.0</td>\n",
       "    </tr>\n",
       "    <tr>\n",
       "      <th>89998</th>\n",
       "      <td>29998</td>\n",
       "      <td>0</td>\n",
       "      <td>2999900</td>\n",
       "      <td>SQUID_INK</td>\n",
       "      <td>1838</td>\n",
       "      <td>23</td>\n",
       "      <td>NaN</td>\n",
       "      <td>NaN</td>\n",
       "      <td>NaN</td>\n",
       "      <td>NaN</td>\n",
       "      <td>1841</td>\n",
       "      <td>23</td>\n",
       "      <td>NaN</td>\n",
       "      <td>NaN</td>\n",
       "      <td>NaN</td>\n",
       "      <td>NaN</td>\n",
       "      <td>1839.5</td>\n",
       "      <td>0.0</td>\n",
       "    </tr>\n",
       "    <tr>\n",
       "      <th>89999</th>\n",
       "      <td>29999</td>\n",
       "      <td>0</td>\n",
       "      <td>2999900</td>\n",
       "      <td>KELP</td>\n",
       "      <td>2032</td>\n",
       "      <td>23</td>\n",
       "      <td>NaN</td>\n",
       "      <td>NaN</td>\n",
       "      <td>NaN</td>\n",
       "      <td>NaN</td>\n",
       "      <td>2035</td>\n",
       "      <td>23</td>\n",
       "      <td>NaN</td>\n",
       "      <td>NaN</td>\n",
       "      <td>NaN</td>\n",
       "      <td>NaN</td>\n",
       "      <td>2033.5</td>\n",
       "      <td>0.0</td>\n",
       "    </tr>\n",
       "  </tbody>\n",
       "</table>\n",
       "<p>90000 rows × 18 columns</p>\n",
       "</div>"
      ],
      "text/plain": [
       "       index  day  timestamp           product  bid_price_1  bid_volume_1  \\\n",
       "0          0   -2          0  RAINFOREST_RESIN         9996             1   \n",
       "1          1   -2          0              KELP         1998            26   \n",
       "2          2   -2          0         SQUID_INK         1998            26   \n",
       "3          3   -2        100         SQUID_INK         1999             5   \n",
       "4          4   -2        100  RAINFOREST_RESIN        10000             5   \n",
       "...      ...  ...        ...               ...          ...           ...   \n",
       "89995  29995    0    2999800              KELP         2032            27   \n",
       "89996  29996    0    2999800  RAINFOREST_RESIN         9995            27   \n",
       "89997  29997    0    2999900  RAINFOREST_RESIN         9996             2   \n",
       "89998  29998    0    2999900         SQUID_INK         1838            23   \n",
       "89999  29999    0    2999900              KELP         2032            23   \n",
       "\n",
       "       bid_price_2  bid_volume_2  bid_price_3  bid_volume_3  ask_price_1  \\\n",
       "0           9995.0          25.0          NaN           NaN        10004   \n",
       "1              NaN           NaN          NaN           NaN         2002   \n",
       "2              NaN           NaN          NaN           NaN         2002   \n",
       "3           1998.0          26.0          NaN           NaN         2001   \n",
       "4           9995.0          20.0          NaN           NaN        10005   \n",
       "...            ...           ...          ...           ...          ...   \n",
       "89995          NaN           NaN          NaN           NaN         2034   \n",
       "89996          NaN           NaN          NaN           NaN        10005   \n",
       "89997       9995.0          21.0          NaN           NaN        10004   \n",
       "89998          NaN           NaN          NaN           NaN         1841   \n",
       "89999          NaN           NaN          NaN           NaN         2035   \n",
       "\n",
       "       ask_volume_1  ask_price_2  ask_volume_2  ask_price_3  ask_volume_3  \\\n",
       "0                 1      10005.0          25.0          NaN           NaN   \n",
       "1                26          NaN           NaN          NaN           NaN   \n",
       "2                26          NaN           NaN          NaN           NaN   \n",
       "3                20          NaN           NaN          NaN           NaN   \n",
       "4                20          NaN           NaN          NaN           NaN   \n",
       "...             ...          ...           ...          ...           ...   \n",
       "89995             1       2035.0          27.0          NaN           NaN   \n",
       "89996            27          NaN           NaN          NaN           NaN   \n",
       "89997             2      10005.0          21.0          NaN           NaN   \n",
       "89998            23          NaN           NaN          NaN           NaN   \n",
       "89999            23          NaN           NaN          NaN           NaN   \n",
       "\n",
       "       mid_price  profit_and_loss  \n",
       "0        10000.0              0.0  \n",
       "1         2000.0              0.0  \n",
       "2         2000.0              0.0  \n",
       "3         2000.0              0.0  \n",
       "4        10002.5              0.0  \n",
       "...          ...              ...  \n",
       "89995     2033.0              0.0  \n",
       "89996    10000.0              0.0  \n",
       "89997    10000.0              0.0  \n",
       "89998     1839.5              0.0  \n",
       "89999     2033.5              0.0  \n",
       "\n",
       "[90000 rows x 18 columns]"
      ]
     },
     "execution_count": 122,
     "metadata": {},
     "output_type": "execute_result"
    }
   ],
   "source": [
    "prices"
   ]
  },
  {
   "cell_type": "code",
   "execution_count": 123,
   "metadata": {},
   "outputs": [],
   "source": [
    "trades = pd.read_csv('/Users/denysshkola/Downloads/round-1-island-data-bottle/trades_round_1_day_0.csv',delimiter=';')\n",
    "trades.drop(columns=['buyer','seller'],inplace=True)"
   ]
  },
  {
   "cell_type": "code",
   "execution_count": 124,
   "metadata": {},
   "outputs": [],
   "source": [
    "prices.drop(columns=['profit_and_loss'],inplace=True)"
   ]
  },
  {
   "cell_type": "code",
   "execution_count": null,
   "metadata": {},
   "outputs": [
    {
     "data": {
      "text/plain": [
       "<Axes: xlabel='timestamp', ylabel='mid_price'>"
      ]
     },
     "execution_count": 125,
     "metadata": {},
     "output_type": "execute_result"
    },
    {
     "data": {
      "image/png": "[encoded data removed]",
      "text/plain": [
       "<Figure size 640x480 with 1 Axes>"
      ]
     },
     "metadata": {},
     "output_type": "display_data"
    }
   ],
   "source": [
    "temp = prices.copy()\n",
    "temp.loc[temp['product'] == 'RAINFOREST_RESIN', 'mid_price'] /= 5\n",
    "temp.loc[temp['product'] == 'SQUID_INK', 'mid_price'] /= 5\n",
    "sns.lineplot(temp,x='timestamp',y='mid_price',hue='product')"
   ]
  },
  {
   "cell_type": "code",
   "execution_count": 126,
   "metadata": {},
   "outputs": [],
   "source": [
    "drop_col = ['product']#,'bid_price_1','bid_volume_1','bid_price_2','bid_volume_2','bid_price_3','bid_volume_3','ask_price_1','ask_volume_1','ask_price_2','ask_volume_2','ask_price_3','ask_volume_3']"
   ]
  },
  {
   "cell_type": "code",
   "execution_count": 127,
   "metadata": {},
   "outputs": [],
   "source": [
    "resin = prices.loc[prices['product'] == 'RAINFOREST_RESIN'].drop(columns=drop_col).ffill()\n",
    "kelp = prices.loc[prices['product'] == 'KELP'].drop(columns=drop_col).ffill()\n",
    "ink = prices.loc[prices['product'] == 'SQUID_INK'].drop(columns=drop_col).ffill()"
   ]
  },
  {
   "cell_type": "code",
   "execution_count": 128,
   "metadata": {},
   "outputs": [],
   "source": [
    "resin['return'] = resin['mid_price'].pct_change()"
   ]
  },
  {
   "cell_type": "code",
   "execution_count": 129,
   "metadata": {},
   "outputs": [],
   "source": [
    "kelp['return'] = kelp['mid_price'].pct_change()"
   ]
  },
  {
   "cell_type": "code",
   "execution_count": 130,
   "metadata": {},
   "outputs": [],
   "source": [
    "ink['return'] = ink['mid_price'].pct_change()"
   ]
  },
  {
   "cell_type": "code",
   "execution_count": 131,
   "metadata": {},
   "outputs": [
    {
     "data": {
      "text/plain": [
       "<Axes: xlabel='return', ylabel='Count'>"
      ]
     },
     "execution_count": 131,
     "metadata": {},
     "output_type": "execute_result"
    },
    {
     "data": {
      "image/png": "[encoded data removed]",
      "text/plain": [
       "<Figure size 640x480 with 1 Axes>"
      ]
     },
     "metadata": {},
     "output_type": "display_data"
    }
   ],
   "source": [
    "sns.histplot(ink['return'].dropna())"
   ]
  },
  {
   "cell_type": "code",
   "execution_count": 132,
   "metadata": {},
   "outputs": [
    {
     "data": {
      "text/plain": [
       "np.float64(-0.0021391036256965057)"
      ]
     },
     "execution_count": 132,
     "metadata": {},
     "output_type": "execute_result"
    }
   ],
   "source": [
    "np.percentile(ink['return'].dropna(),1)"
   ]
  },
  {
   "cell_type": "code",
   "execution_count": null,
   "metadata": {},
   "outputs": [
    {
     "data": {
      "text/html": [
       "<div>\n",
       "<style scoped>\n",
       "    .dataframe tbody tr th:only-of-type {\n",
       "        vertical-align: middle;\n",
       "    }\n",
       "\n",
       "    .dataframe tbody tr th {\n",
       "        vertical-align: top;\n",
       "    }\n",
       "\n",
       "    .dataframe thead th {\n",
       "        text-align: right;\n",
       "    }\n",
       "</style>\n",
       "<table border=\"1\" class=\"dataframe\">\n",
       "  <thead>\n",
       "    <tr style=\"text-align: right;\">\n",
       "      <th></th>\n",
       "      <th>day</th>\n",
       "      <th>timestamp</th>\n",
       "      <th>bid_price_1</th>\n",
       "      <th>bid_volume_1</th>\n",
       "      <th>bid_price_2</th>\n",
       "      <th>bid_volume_2</th>\n",
       "      <th>bid_price_3</th>\n",
       "      <th>bid_volume_3</th>\n",
       "      <th>ask_price_1</th>\n",
       "      <th>ask_volume_1</th>\n",
       "      <th>ask_price_2</th>\n",
       "      <th>ask_volume_2</th>\n",
       "      <th>ask_price_3</th>\n",
       "      <th>ask_volume_3</th>\n",
       "      <th>mid_price</th>\n",
       "      <th>return</th>\n",
       "    </tr>\n",
       "  </thead>\n",
       "  <tbody>\n",
       "    <tr>\n",
       "      <th>day</th>\n",
       "      <td>NaN</td>\n",
       "      <td>NaN</td>\n",
       "      <td>NaN</td>\n",
       "      <td>NaN</td>\n",
       "      <td>NaN</td>\n",
       "      <td>NaN</td>\n",
       "      <td>NaN</td>\n",
       "      <td>NaN</td>\n",
       "      <td>NaN</td>\n",
       "      <td>NaN</td>\n",
       "      <td>NaN</td>\n",
       "      <td>NaN</td>\n",
       "      <td>NaN</td>\n",
       "      <td>NaN</td>\n",
       "      <td>NaN</td>\n",
       "      <td>NaN</td>\n",
       "    </tr>\n",
       "    <tr>\n",
       "      <th>timestamp</th>\n",
       "      <td>NaN</td>\n",
       "      <td>1.000000</td>\n",
       "      <td>-0.917815</td>\n",
       "      <td>-0.005612</td>\n",
       "      <td>-0.917936</td>\n",
       "      <td>0.015201</td>\n",
       "      <td>-0.915132</td>\n",
       "      <td>0.048689</td>\n",
       "      <td>-0.917831</td>\n",
       "      <td>0.020399</td>\n",
       "      <td>-0.917960</td>\n",
       "      <td>-0.007425</td>\n",
       "      <td>-0.915467</td>\n",
       "      <td>-0.102219</td>\n",
       "      <td>-0.917867</td>\n",
       "      <td>-0.001019</td>\n",
       "    </tr>\n",
       "    <tr>\n",
       "      <th>bid_price_1</th>\n",
       "      <td>NaN</td>\n",
       "      <td>-0.917815</td>\n",
       "      <td>1.000000</td>\n",
       "      <td>-0.007484</td>\n",
       "      <td>0.998634</td>\n",
       "      <td>-0.009105</td>\n",
       "      <td>0.976287</td>\n",
       "      <td>-0.027346</td>\n",
       "      <td>0.999810</td>\n",
       "      <td>-0.016046</td>\n",
       "      <td>0.998844</td>\n",
       "      <td>-0.015946</td>\n",
       "      <td>0.982430</td>\n",
       "      <td>0.107404</td>\n",
       "      <td>0.999952</td>\n",
       "      <td>0.016040</td>\n",
       "    </tr>\n",
       "    <tr>\n",
       "      <th>bid_volume_1</th>\n",
       "      <td>NaN</td>\n",
       "      <td>-0.005612</td>\n",
       "      <td>-0.007484</td>\n",
       "      <td>1.000000</td>\n",
       "      <td>0.004215</td>\n",
       "      <td>-0.000006</td>\n",
       "      <td>0.005632</td>\n",
       "      <td>-0.005913</td>\n",
       "      <td>0.000912</td>\n",
       "      <td>-0.043042</td>\n",
       "      <td>0.003816</td>\n",
       "      <td>0.027370</td>\n",
       "      <td>0.008735</td>\n",
       "      <td>-0.000673</td>\n",
       "      <td>-0.003284</td>\n",
       "      <td>-0.231943</td>\n",
       "    </tr>\n",
       "    <tr>\n",
       "      <th>bid_price_2</th>\n",
       "      <td>NaN</td>\n",
       "      <td>-0.917936</td>\n",
       "      <td>0.998634</td>\n",
       "      <td>0.004215</td>\n",
       "      <td>1.000000</td>\n",
       "      <td>-0.012327</td>\n",
       "      <td>0.977986</td>\n",
       "      <td>-0.026495</td>\n",
       "      <td>0.998606</td>\n",
       "      <td>-0.019273</td>\n",
       "      <td>0.998616</td>\n",
       "      <td>-0.014790</td>\n",
       "      <td>0.983612</td>\n",
       "      <td>0.107005</td>\n",
       "      <td>0.998667</td>\n",
       "      <td>-0.005337</td>\n",
       "    </tr>\n",
       "    <tr>\n",
       "      <th>bid_volume_2</th>\n",
       "      <td>NaN</td>\n",
       "      <td>0.015201</td>\n",
       "      <td>-0.009105</td>\n",
       "      <td>-0.000006</td>\n",
       "      <td>-0.012327</td>\n",
       "      <td>1.000000</td>\n",
       "      <td>-0.004117</td>\n",
       "      <td>-0.068365</td>\n",
       "      <td>-0.009194</td>\n",
       "      <td>0.004836</td>\n",
       "      <td>-0.008825</td>\n",
       "      <td>-0.009316</td>\n",
       "      <td>-0.003124</td>\n",
       "      <td>0.014972</td>\n",
       "      <td>-0.009150</td>\n",
       "      <td>-0.009670</td>\n",
       "    </tr>\n",
       "    <tr>\n",
       "      <th>bid_price_3</th>\n",
       "      <td>NaN</td>\n",
       "      <td>-0.915132</td>\n",
       "      <td>0.976287</td>\n",
       "      <td>0.005632</td>\n",
       "      <td>0.977986</td>\n",
       "      <td>-0.004117</td>\n",
       "      <td>1.000000</td>\n",
       "      <td>-0.008972</td>\n",
       "      <td>0.976251</td>\n",
       "      <td>-0.025237</td>\n",
       "      <td>0.977508</td>\n",
       "      <td>-0.011898</td>\n",
       "      <td>0.979824</td>\n",
       "      <td>0.109392</td>\n",
       "      <td>0.976316</td>\n",
       "      <td>-0.011510</td>\n",
       "    </tr>\n",
       "    <tr>\n",
       "      <th>bid_volume_3</th>\n",
       "      <td>NaN</td>\n",
       "      <td>0.048689</td>\n",
       "      <td>-0.027346</td>\n",
       "      <td>-0.005913</td>\n",
       "      <td>-0.026495</td>\n",
       "      <td>-0.068365</td>\n",
       "      <td>-0.008972</td>\n",
       "      <td>1.000000</td>\n",
       "      <td>-0.027122</td>\n",
       "      <td>0.013275</td>\n",
       "      <td>-0.029372</td>\n",
       "      <td>-0.006760</td>\n",
       "      <td>-0.022232</td>\n",
       "      <td>0.025474</td>\n",
       "      <td>-0.027235</td>\n",
       "      <td>-0.003176</td>\n",
       "    </tr>\n",
       "    <tr>\n",
       "      <th>ask_price_1</th>\n",
       "      <td>NaN</td>\n",
       "      <td>-0.917831</td>\n",
       "      <td>0.999810</td>\n",
       "      <td>0.000912</td>\n",
       "      <td>0.998606</td>\n",
       "      <td>-0.009194</td>\n",
       "      <td>0.976251</td>\n",
       "      <td>-0.027122</td>\n",
       "      <td>1.000000</td>\n",
       "      <td>-0.006306</td>\n",
       "      <td>0.998842</td>\n",
       "      <td>-0.015397</td>\n",
       "      <td>0.982485</td>\n",
       "      <td>0.107425</td>\n",
       "      <td>0.999953</td>\n",
       "      <td>0.016536</td>\n",
       "    </tr>\n",
       "    <tr>\n",
       "      <th>ask_volume_1</th>\n",
       "      <td>NaN</td>\n",
       "      <td>0.020399</td>\n",
       "      <td>-0.016046</td>\n",
       "      <td>-0.043042</td>\n",
       "      <td>-0.019273</td>\n",
       "      <td>0.004836</td>\n",
       "      <td>-0.025237</td>\n",
       "      <td>0.013275</td>\n",
       "      <td>-0.006306</td>\n",
       "      <td>1.000000</td>\n",
       "      <td>-0.019236</td>\n",
       "      <td>0.002515</td>\n",
       "      <td>-0.019919</td>\n",
       "      <td>-0.000947</td>\n",
       "      <td>-0.011174</td>\n",
       "      <td>0.265629</td>\n",
       "    </tr>\n",
       "    <tr>\n",
       "      <th>ask_price_2</th>\n",
       "      <td>NaN</td>\n",
       "      <td>-0.917960</td>\n",
       "      <td>0.998844</td>\n",
       "      <td>0.003816</td>\n",
       "      <td>0.998616</td>\n",
       "      <td>-0.008825</td>\n",
       "      <td>0.977508</td>\n",
       "      <td>-0.029372</td>\n",
       "      <td>0.998842</td>\n",
       "      <td>-0.019236</td>\n",
       "      <td>1.000000</td>\n",
       "      <td>-0.011489</td>\n",
       "      <td>0.983605</td>\n",
       "      <td>0.109898</td>\n",
       "      <td>0.998891</td>\n",
       "      <td>-0.003474</td>\n",
       "    </tr>\n",
       "    <tr>\n",
       "      <th>ask_volume_2</th>\n",
       "      <td>NaN</td>\n",
       "      <td>-0.007425</td>\n",
       "      <td>-0.015946</td>\n",
       "      <td>0.027370</td>\n",
       "      <td>-0.014790</td>\n",
       "      <td>-0.009316</td>\n",
       "      <td>-0.011898</td>\n",
       "      <td>-0.006760</td>\n",
       "      <td>-0.015397</td>\n",
       "      <td>0.002515</td>\n",
       "      <td>-0.011489</td>\n",
       "      <td>1.000000</td>\n",
       "      <td>-0.012991</td>\n",
       "      <td>-0.015966</td>\n",
       "      <td>-0.015672</td>\n",
       "      <td>0.009090</td>\n",
       "    </tr>\n",
       "    <tr>\n",
       "      <th>ask_price_3</th>\n",
       "      <td>NaN</td>\n",
       "      <td>-0.915467</td>\n",
       "      <td>0.982430</td>\n",
       "      <td>0.008735</td>\n",
       "      <td>0.983612</td>\n",
       "      <td>-0.003124</td>\n",
       "      <td>0.979824</td>\n",
       "      <td>-0.022232</td>\n",
       "      <td>0.982485</td>\n",
       "      <td>-0.019919</td>\n",
       "      <td>0.983605</td>\n",
       "      <td>-0.012991</td>\n",
       "      <td>1.000000</td>\n",
       "      <td>0.124108</td>\n",
       "      <td>0.982505</td>\n",
       "      <td>-0.010234</td>\n",
       "    </tr>\n",
       "    <tr>\n",
       "      <th>ask_volume_3</th>\n",
       "      <td>NaN</td>\n",
       "      <td>-0.102219</td>\n",
       "      <td>0.107404</td>\n",
       "      <td>-0.000673</td>\n",
       "      <td>0.107005</td>\n",
       "      <td>0.014972</td>\n",
       "      <td>0.109392</td>\n",
       "      <td>0.025474</td>\n",
       "      <td>0.107425</td>\n",
       "      <td>-0.000947</td>\n",
       "      <td>0.109898</td>\n",
       "      <td>-0.015966</td>\n",
       "      <td>0.124108</td>\n",
       "      <td>1.000000</td>\n",
       "      <td>0.107420</td>\n",
       "      <td>-0.004587</td>\n",
       "    </tr>\n",
       "    <tr>\n",
       "      <th>mid_price</th>\n",
       "      <td>NaN</td>\n",
       "      <td>-0.917867</td>\n",
       "      <td>0.999952</td>\n",
       "      <td>-0.003284</td>\n",
       "      <td>0.998667</td>\n",
       "      <td>-0.009150</td>\n",
       "      <td>0.976316</td>\n",
       "      <td>-0.027235</td>\n",
       "      <td>0.999953</td>\n",
       "      <td>-0.011174</td>\n",
       "      <td>0.998891</td>\n",
       "      <td>-0.015672</td>\n",
       "      <td>0.982505</td>\n",
       "      <td>0.107420</td>\n",
       "      <td>1.000000</td>\n",
       "      <td>0.016289</td>\n",
       "    </tr>\n",
       "    <tr>\n",
       "      <th>return</th>\n",
       "      <td>NaN</td>\n",
       "      <td>-0.001019</td>\n",
       "      <td>0.016040</td>\n",
       "      <td>-0.231943</td>\n",
       "      <td>-0.005337</td>\n",
       "      <td>-0.009670</td>\n",
       "      <td>-0.011510</td>\n",
       "      <td>-0.003176</td>\n",
       "      <td>0.016536</td>\n",
       "      <td>0.265629</td>\n",
       "      <td>-0.003474</td>\n",
       "      <td>0.009090</td>\n",
       "      <td>-0.010234</td>\n",
       "      <td>-0.004587</td>\n",
       "      <td>0.016289</td>\n",
       "      <td>1.000000</td>\n",
       "    </tr>\n",
       "  </tbody>\n",
       "</table>\n",
       "</div>"
      ],
      "text/plain": [
       "              day  timestamp  bid_price_1  bid_volume_1  bid_price_2  \\\n",
       "day           NaN        NaN          NaN           NaN          NaN   \n",
       "timestamp     NaN   1.000000    -0.917815     -0.005612    -0.917936   \n",
       "bid_price_1   NaN  -0.917815     1.000000     -0.007484     0.998634   \n",
       "bid_volume_1  NaN  -0.005612    -0.007484      1.000000     0.004215   \n",
       "bid_price_2   NaN  -0.917936     0.998634      0.004215     1.000000   \n",
       "bid_volume_2  NaN   0.015201    -0.009105     -0.000006    -0.012327   \n",
       "bid_price_3   NaN  -0.915132     0.976287      0.005632     0.977986   \n",
       "bid_volume_3  NaN   0.048689    -0.027346     -0.005913    -0.026495   \n",
       "ask_price_1   NaN  -0.917831     0.999810      0.000912     0.998606   \n",
       "ask_volume_1  NaN   0.020399    -0.016046     -0.043042    -0.019273   \n",
       "ask_price_2   NaN  -0.917960     0.998844      0.003816     0.998616   \n",
       "ask_volume_2  NaN  -0.007425    -0.015946      0.027370    -0.014790   \n",
       "ask_price_3   NaN  -0.915467     0.982430      0.008735     0.983612   \n",
       "ask_volume_3  NaN  -0.102219     0.107404     -0.000673     0.107005   \n",
       "mid_price     NaN  -0.917867     0.999952     -0.003284     0.998667   \n",
       "return        NaN  -0.001019     0.016040     -0.231943    -0.005337   \n",
       "\n",
       "              bid_volume_2  bid_price_3  bid_volume_3  ask_price_1  \\\n",
       "day                    NaN          NaN           NaN          NaN   \n",
       "timestamp         0.015201    -0.915132      0.048689    -0.917831   \n",
       "bid_price_1      -0.009105     0.976287     -0.027346     0.999810   \n",
       "bid_volume_1     -0.000006     0.005632     -0.005913     0.000912   \n",
       "bid_price_2      -0.012327     0.977986     -0.026495     0.998606   \n",
       "bid_volume_2      1.000000    -0.004117     -0.068365    -0.009194   \n",
       "bid_price_3      -0.004117     1.000000     -0.008972     0.976251   \n",
       "bid_volume_3     -0.068365    -0.008972      1.000000    -0.027122   \n",
       "ask_price_1      -0.009194     0.976251     -0.027122     1.000000   \n",
       "ask_volume_1      0.004836    -0.025237      0.013275    -0.006306   \n",
       "ask_price_2      -0.008825     0.977508     -0.029372     0.998842   \n",
       "ask_volume_2     -0.009316    -0.011898     -0.006760    -0.015397   \n",
       "ask_price_3      -0.003124     0.979824     -0.022232     0.982485   \n",
       "ask_volume_3      0.014972     0.109392      0.025474     0.107425   \n",
       "mid_price        -0.009150     0.976316     -0.027235     0.999953   \n",
       "return           -0.009670    -0.011510     -0.003176     0.016536   \n",
       "\n",
       "              ask_volume_1  ask_price_2  ask_volume_2  ask_price_3  \\\n",
       "day                    NaN          NaN           NaN          NaN   \n",
       "timestamp         0.020399    -0.917960     -0.007425    -0.915467   \n",
       "bid_price_1      -0.016046     0.998844     -0.015946     0.982430   \n",
       "bid_volume_1     -0.043042     0.003816      0.027370     0.008735   \n",
       "bid_price_2      -0.019273     0.998616     -0.014790     0.983612   \n",
       "bid_volume_2      0.004836    -0.008825     -0.009316    -0.003124   \n",
       "bid_price_3      -0.025237     0.977508     -0.011898     0.979824   \n",
       "bid_volume_3      0.013275    -0.029372     -0.006760    -0.022232   \n",
       "ask_price_1      -0.006306     0.998842     -0.015397     0.982485   \n",
       "ask_volume_1      1.000000    -0.019236      0.002515    -0.019919   \n",
       "ask_price_2      -0.019236     1.000000     -0.011489     0.983605   \n",
       "ask_volume_2      0.002515    -0.011489      1.000000    -0.012991   \n",
       "ask_price_3      -0.019919     0.983605     -0.012991     1.000000   \n",
       "ask_volume_3     -0.000947     0.109898     -0.015966     0.124108   \n",
       "mid_price        -0.011174     0.998891     -0.015672     0.982505   \n",
       "return            0.265629    -0.003474      0.009090    -0.010234   \n",
       "\n",
       "              ask_volume_3  mid_price    return  \n",
       "day                    NaN        NaN       NaN  \n",
       "timestamp        -0.102219  -0.917867 -0.001019  \n",
       "bid_price_1       0.107404   0.999952  0.016040  \n",
       "bid_volume_1     -0.000673  -0.003284 -0.231943  \n",
       "bid_price_2       0.107005   0.998667 -0.005337  \n",
       "bid_volume_2      0.014972  -0.009150 -0.009670  \n",
       "bid_price_3       0.109392   0.976316 -0.011510  \n",
       "bid_volume_3      0.025474  -0.027235 -0.003176  \n",
       "ask_price_1       0.107425   0.999953  0.016536  \n",
       "ask_volume_1     -0.000947  -0.011174  0.265629  \n",
       "ask_price_2       0.109898   0.998891 -0.003474  \n",
       "ask_volume_2     -0.015966  -0.015672  0.009090  \n",
       "ask_price_3       0.124108   0.982505 -0.010234  \n",
       "ask_volume_3      1.000000   0.107420 -0.004587  \n",
       "mid_price         0.107420   1.000000  0.016289  \n",
       "return           -0.004587   0.016289  1.000000  "
      ]
     },
     "execution_count": 77,
     "metadata": {},
     "output_type": "execute_result"
    }
   ],
   "source": [
    "ink.corr()"
   ]
  },
  {
   "cell_type": "code",
   "execution_count": 134,
   "metadata": {},
   "outputs": [],
   "source": [
    "k_p = np.array(kelp.mid_price)\n",
    "i_p = np.array(ink.mid_price)\n",
    "r_p = np.array(resin.mid_price)"
   ]
  },
  {
   "cell_type": "code",
   "execution_count": 135,
   "metadata": {},
   "outputs": [
    {
     "data": {
      "text/plain": [
       "<Axes: >"
      ]
     },
     "execution_count": 135,
     "metadata": {},
     "output_type": "execute_result"
    },
    {
     "data": {
      "image/png": "[encoded data removed]",
      "text/plain": [
       "<Figure size 640x480 with 1 Axes>"
      ]
     },
     "metadata": {},
     "output_type": "display_data"
    }
   ],
   "source": [
    "sns.lineplot(i_p - k_p)"
   ]
  },
  {
   "cell_type": "code",
   "execution_count": 136,
   "metadata": {},
   "outputs": [
    {
     "data": {
      "text/plain": [
       "<Axes: ylabel='Count'>"
      ]
     },
     "execution_count": 136,
     "metadata": {},
     "output_type": "execute_result"
    },
    {
     "data": {
      "image/png": "[encoded data removed]",
      "text/plain": [
       "<Figure size 640x480 with 1 Axes>"
      ]
     },
     "metadata": {},
     "output_type": "display_data"
    }
   ],
   "source": [
    "sns.histplot(np.array(resin.mid_price.dropna()))"
   ]
  },
  {
   "cell_type": "code",
   "execution_count": 137,
   "metadata": {},
   "outputs": [],
   "source": [
    "kelp.index = kelp.timestamp"
   ]
  },
  {
   "cell_type": "code",
   "execution_count": 138,
   "metadata": {},
   "outputs": [],
   "source": [
    "ink.index = ink.timestamp"
   ]
  },
  {
   "cell_type": "code",
   "execution_count": 139,
   "metadata": {},
   "outputs": [],
   "source": [
    "resin.index = resin.timestamp"
   ]
  },
  {
   "cell_type": "code",
   "execution_count": 140,
   "metadata": {},
   "outputs": [],
   "source": [
    "df = pd.DataFrame({'ink': ink.mid_price, \n",
    "      'kelp': kelp.mid_price,\n",
    "      'resin': resin.mid_price\n",
    "},index=ink.timestamp)"
   ]
  },
  {
   "cell_type": "code",
   "execution_count": 141,
   "metadata": {},
   "outputs": [
    {
     "data": {
      "text/html": [
       "<div>\n",
       "<style scoped>\n",
       "    .dataframe tbody tr th:only-of-type {\n",
       "        vertical-align: middle;\n",
       "    }\n",
       "\n",
       "    .dataframe tbody tr th {\n",
       "        vertical-align: top;\n",
       "    }\n",
       "\n",
       "    .dataframe thead th {\n",
       "        text-align: right;\n",
       "    }\n",
       "</style>\n",
       "<table border=\"1\" class=\"dataframe\">\n",
       "  <thead>\n",
       "    <tr style=\"text-align: right;\">\n",
       "      <th></th>\n",
       "      <th>ink</th>\n",
       "      <th>kelp</th>\n",
       "      <th>resin</th>\n",
       "    </tr>\n",
       "    <tr>\n",
       "      <th>timestamp</th>\n",
       "      <th></th>\n",
       "      <th></th>\n",
       "      <th></th>\n",
       "    </tr>\n",
       "  </thead>\n",
       "  <tbody>\n",
       "    <tr>\n",
       "      <th>0</th>\n",
       "      <td>2000.0</td>\n",
       "      <td>2000.0</td>\n",
       "      <td>10000.0</td>\n",
       "    </tr>\n",
       "    <tr>\n",
       "      <th>100</th>\n",
       "      <td>2000.0</td>\n",
       "      <td>2001.0</td>\n",
       "      <td>10002.5</td>\n",
       "    </tr>\n",
       "    <tr>\n",
       "      <th>200</th>\n",
       "      <td>1998.5</td>\n",
       "      <td>2000.5</td>\n",
       "      <td>10000.0</td>\n",
       "    </tr>\n",
       "    <tr>\n",
       "      <th>300</th>\n",
       "      <td>1998.5</td>\n",
       "      <td>2000.5</td>\n",
       "      <td>10000.0</td>\n",
       "    </tr>\n",
       "    <tr>\n",
       "      <th>400</th>\n",
       "      <td>1998.0</td>\n",
       "      <td>2000.5</td>\n",
       "      <td>9996.5</td>\n",
       "    </tr>\n",
       "    <tr>\n",
       "      <th>...</th>\n",
       "      <td>...</td>\n",
       "      <td>...</td>\n",
       "      <td>...</td>\n",
       "    </tr>\n",
       "    <tr>\n",
       "      <th>2999500</th>\n",
       "      <td>1831.5</td>\n",
       "      <td>2033.5</td>\n",
       "      <td>9998.5</td>\n",
       "    </tr>\n",
       "    <tr>\n",
       "      <th>2999600</th>\n",
       "      <td>1833.0</td>\n",
       "      <td>2033.5</td>\n",
       "      <td>9999.0</td>\n",
       "    </tr>\n",
       "    <tr>\n",
       "      <th>2999700</th>\n",
       "      <td>1834.5</td>\n",
       "      <td>2034.5</td>\n",
       "      <td>10000.0</td>\n",
       "    </tr>\n",
       "    <tr>\n",
       "      <th>2999800</th>\n",
       "      <td>1838.0</td>\n",
       "      <td>2033.0</td>\n",
       "      <td>10000.0</td>\n",
       "    </tr>\n",
       "    <tr>\n",
       "      <th>2999900</th>\n",
       "      <td>1839.5</td>\n",
       "      <td>2033.5</td>\n",
       "      <td>10000.0</td>\n",
       "    </tr>\n",
       "  </tbody>\n",
       "</table>\n",
       "<p>30000 rows × 3 columns</p>\n",
       "</div>"
      ],
      "text/plain": [
       "              ink    kelp    resin\n",
       "timestamp                         \n",
       "0          2000.0  2000.0  10000.0\n",
       "100        2000.0  2001.0  10002.5\n",
       "200        1998.5  2000.5  10000.0\n",
       "300        1998.5  2000.5  10000.0\n",
       "400        1998.0  2000.5   9996.5\n",
       "...           ...     ...      ...\n",
       "2999500    1831.5  2033.5   9998.5\n",
       "2999600    1833.0  2033.5   9999.0\n",
       "2999700    1834.5  2034.5  10000.0\n",
       "2999800    1838.0  2033.0  10000.0\n",
       "2999900    1839.5  2033.5  10000.0\n",
       "\n",
       "[30000 rows x 3 columns]"
      ]
     },
     "execution_count": 141,
     "metadata": {},
     "output_type": "execute_result"
    }
   ],
   "source": [
    "df"
   ]
  },
  {
   "cell_type": "code",
   "execution_count": 165,
   "metadata": {},
   "outputs": [
    {
     "data": {
      "text/html": [
       "<div>\n",
       "<style scoped>\n",
       "    .dataframe tbody tr th:only-of-type {\n",
       "        vertical-align: middle;\n",
       "    }\n",
       "\n",
       "    .dataframe tbody tr th {\n",
       "        vertical-align: top;\n",
       "    }\n",
       "\n",
       "    .dataframe thead th {\n",
       "        text-align: right;\n",
       "    }\n",
       "</style>\n",
       "<table border=\"1\" class=\"dataframe\">\n",
       "  <thead>\n",
       "    <tr style=\"text-align: right;\">\n",
       "      <th></th>\n",
       "      <th>ink</th>\n",
       "      <th>kelp</th>\n",
       "      <th>resin</th>\n",
       "    </tr>\n",
       "    <tr>\n",
       "      <th>timestamp</th>\n",
       "      <th></th>\n",
       "      <th></th>\n",
       "      <th></th>\n",
       "    </tr>\n",
       "  </thead>\n",
       "  <tbody>\n",
       "    <tr>\n",
       "      <th>100</th>\n",
       "      <td>0.000000</td>\n",
       "      <td>0.000500</td>\n",
       "      <td>0.00025</td>\n",
       "    </tr>\n",
       "    <tr>\n",
       "      <th>200</th>\n",
       "      <td>-0.000750</td>\n",
       "      <td>-0.000250</td>\n",
       "      <td>-0.00025</td>\n",
       "    </tr>\n",
       "    <tr>\n",
       "      <th>300</th>\n",
       "      <td>0.000000</td>\n",
       "      <td>0.000000</td>\n",
       "      <td>0.00000</td>\n",
       "    </tr>\n",
       "    <tr>\n",
       "      <th>400</th>\n",
       "      <td>-0.000250</td>\n",
       "      <td>0.000000</td>\n",
       "      <td>-0.00035</td>\n",
       "    </tr>\n",
       "    <tr>\n",
       "      <th>500</th>\n",
       "      <td>0.000751</td>\n",
       "      <td>0.000500</td>\n",
       "      <td>0.00035</td>\n",
       "    </tr>\n",
       "    <tr>\n",
       "      <th>...</th>\n",
       "      <td>...</td>\n",
       "      <td>...</td>\n",
       "      <td>...</td>\n",
       "    </tr>\n",
       "    <tr>\n",
       "      <th>2999500</th>\n",
       "      <td>0.000546</td>\n",
       "      <td>0.000000</td>\n",
       "      <td>-0.00015</td>\n",
       "    </tr>\n",
       "    <tr>\n",
       "      <th>2999600</th>\n",
       "      <td>0.000819</td>\n",
       "      <td>0.000000</td>\n",
       "      <td>0.00005</td>\n",
       "    </tr>\n",
       "    <tr>\n",
       "      <th>2999700</th>\n",
       "      <td>0.000818</td>\n",
       "      <td>0.000492</td>\n",
       "      <td>0.00010</td>\n",
       "    </tr>\n",
       "    <tr>\n",
       "      <th>2999800</th>\n",
       "      <td>0.001908</td>\n",
       "      <td>-0.000737</td>\n",
       "      <td>0.00000</td>\n",
       "    </tr>\n",
       "    <tr>\n",
       "      <th>2999900</th>\n",
       "      <td>0.000816</td>\n",
       "      <td>0.000246</td>\n",
       "      <td>0.00000</td>\n",
       "    </tr>\n",
       "  </tbody>\n",
       "</table>\n",
       "<p>29999 rows × 3 columns</p>\n",
       "</div>"
      ],
      "text/plain": [
       "                ink      kelp    resin\n",
       "timestamp                             \n",
       "100        0.000000  0.000500  0.00025\n",
       "200       -0.000750 -0.000250 -0.00025\n",
       "300        0.000000  0.000000  0.00000\n",
       "400       -0.000250  0.000000 -0.00035\n",
       "500        0.000751  0.000500  0.00035\n",
       "...             ...       ...      ...\n",
       "2999500    0.000546  0.000000 -0.00015\n",
       "2999600    0.000819  0.000000  0.00005\n",
       "2999700    0.000818  0.000492  0.00010\n",
       "2999800    0.001908 -0.000737  0.00000\n",
       "2999900    0.000816  0.000246  0.00000\n",
       "\n",
       "[29999 rows x 3 columns]"
      ]
     },
     "execution_count": 165,
     "metadata": {},
     "output_type": "execute_result"
    }
   ],
   "source": [
    "rets = df.ffill().pct_change().dropna()\n",
    "rets"
   ]
  },
  {
   "cell_type": "code",
   "execution_count": 168,
   "metadata": {},
   "outputs": [
    {
     "data": {
      "text/plain": [
       "<Axes: xlabel='ink', ylabel='kelp'>"
      ]
     },
     "execution_count": 168,
     "metadata": {},
     "output_type": "execute_result"
    },
    {
     "data": {
      "image/png": "[encoded data removed]",
      "text/plain": [
       "<Figure size 640x480 with 1 Axes>"
      ]
     },
     "metadata": {},
     "output_type": "display_data"
    }
   ],
   "source": [
    "sns.regplot(x=rets['ink'],y=rets['kelp'])"
   ]
  },
  {
   "cell_type": "markdown",
   "metadata": {},
   "source": [
    "ink-kelp corr in returns and prices"
   ]
  },
  {
   "cell_type": "code",
   "execution_count": 143,
   "metadata": {},
   "outputs": [
    {
     "data": {
      "text/html": [
       "<div>\n",
       "<style scoped>\n",
       "    .dataframe tbody tr th:only-of-type {\n",
       "        vertical-align: middle;\n",
       "    }\n",
       "\n",
       "    .dataframe tbody tr th {\n",
       "        vertical-align: top;\n",
       "    }\n",
       "\n",
       "    .dataframe thead th {\n",
       "        text-align: right;\n",
       "    }\n",
       "</style>\n",
       "<table border=\"1\" class=\"dataframe\">\n",
       "  <thead>\n",
       "    <tr style=\"text-align: right;\">\n",
       "      <th></th>\n",
       "      <th>ink</th>\n",
       "      <th>kelp</th>\n",
       "      <th>resin</th>\n",
       "    </tr>\n",
       "  </thead>\n",
       "  <tbody>\n",
       "    <tr>\n",
       "      <th>ink</th>\n",
       "      <td>1.000000</td>\n",
       "      <td>0.310530</td>\n",
       "      <td>0.027792</td>\n",
       "    </tr>\n",
       "    <tr>\n",
       "      <th>kelp</th>\n",
       "      <td>0.310530</td>\n",
       "      <td>1.000000</td>\n",
       "      <td>0.090221</td>\n",
       "    </tr>\n",
       "    <tr>\n",
       "      <th>resin</th>\n",
       "      <td>0.027792</td>\n",
       "      <td>0.090221</td>\n",
       "      <td>1.000000</td>\n",
       "    </tr>\n",
       "  </tbody>\n",
       "</table>\n",
       "</div>"
      ],
      "text/plain": [
       "            ink      kelp     resin\n",
       "ink    1.000000  0.310530  0.027792\n",
       "kelp   0.310530  1.000000  0.090221\n",
       "resin  0.027792  0.090221  1.000000"
      ]
     },
     "execution_count": 143,
     "metadata": {},
     "output_type": "execute_result"
    }
   ],
   "source": [
    "rets.corr()"
   ]
  },
  {
   "cell_type": "code",
   "execution_count": 144,
   "metadata": {},
   "outputs": [],
   "source": [
    "m,b = np.polyfit(rets['kelp'], rets['ink'], 1)"
   ]
  },
  {
   "cell_type": "code",
   "execution_count": 145,
   "metadata": {},
   "outputs": [
    {
     "data": {
      "text/plain": [
       "(np.float64(0.7332503102242035), np.float64(-2.832439970834492e-06))"
      ]
     },
     "execution_count": 145,
     "metadata": {},
     "output_type": "execute_result"
    }
   ],
   "source": [
    "m,b"
   ]
  },
  {
   "cell_type": "code",
   "execution_count": 146,
   "metadata": {},
   "outputs": [
    {
     "data": {
      "text/html": [
       "<div>\n",
       "<style scoped>\n",
       "    .dataframe tbody tr th:only-of-type {\n",
       "        vertical-align: middle;\n",
       "    }\n",
       "\n",
       "    .dataframe tbody tr th {\n",
       "        vertical-align: top;\n",
       "    }\n",
       "\n",
       "    .dataframe thead th {\n",
       "        text-align: right;\n",
       "    }\n",
       "</style>\n",
       "<table border=\"1\" class=\"dataframe\">\n",
       "  <thead>\n",
       "    <tr style=\"text-align: right;\">\n",
       "      <th></th>\n",
       "      <th>ink</th>\n",
       "      <th>kelp</th>\n",
       "      <th>resin</th>\n",
       "    </tr>\n",
       "    <tr>\n",
       "      <th>timestamp</th>\n",
       "      <th></th>\n",
       "      <th></th>\n",
       "      <th></th>\n",
       "    </tr>\n",
       "  </thead>\n",
       "  <tbody>\n",
       "    <tr>\n",
       "      <th>200</th>\n",
       "      <td>-0.000750</td>\n",
       "      <td>-0.000250</td>\n",
       "      <td>-0.00025</td>\n",
       "    </tr>\n",
       "    <tr>\n",
       "      <th>400</th>\n",
       "      <td>-0.000250</td>\n",
       "      <td>0.000000</td>\n",
       "      <td>-0.00035</td>\n",
       "    </tr>\n",
       "    <tr>\n",
       "      <th>500</th>\n",
       "      <td>0.000751</td>\n",
       "      <td>0.000500</td>\n",
       "      <td>0.00035</td>\n",
       "    </tr>\n",
       "    <tr>\n",
       "      <th>700</th>\n",
       "      <td>0.000750</td>\n",
       "      <td>0.000000</td>\n",
       "      <td>0.00010</td>\n",
       "    </tr>\n",
       "    <tr>\n",
       "      <th>800</th>\n",
       "      <td>0.001000</td>\n",
       "      <td>0.000500</td>\n",
       "      <td>-0.00010</td>\n",
       "    </tr>\n",
       "    <tr>\n",
       "      <th>...</th>\n",
       "      <td>...</td>\n",
       "      <td>...</td>\n",
       "      <td>...</td>\n",
       "    </tr>\n",
       "    <tr>\n",
       "      <th>2999000</th>\n",
       "      <td>-0.000545</td>\n",
       "      <td>0.000000</td>\n",
       "      <td>0.00045</td>\n",
       "    </tr>\n",
       "    <tr>\n",
       "      <th>2999100</th>\n",
       "      <td>-0.000546</td>\n",
       "      <td>0.000000</td>\n",
       "      <td>-0.00025</td>\n",
       "    </tr>\n",
       "    <tr>\n",
       "      <th>2999500</th>\n",
       "      <td>0.000546</td>\n",
       "      <td>0.000000</td>\n",
       "      <td>-0.00015</td>\n",
       "    </tr>\n",
       "    <tr>\n",
       "      <th>2999600</th>\n",
       "      <td>0.000819</td>\n",
       "      <td>0.000000</td>\n",
       "      <td>0.00005</td>\n",
       "    </tr>\n",
       "    <tr>\n",
       "      <th>2999700</th>\n",
       "      <td>0.000818</td>\n",
       "      <td>0.000492</td>\n",
       "      <td>0.00010</td>\n",
       "    </tr>\n",
       "  </tbody>\n",
       "</table>\n",
       "<p>17077 rows × 3 columns</p>\n",
       "</div>"
      ],
      "text/plain": [
       "                ink      kelp    resin\n",
       "timestamp                             \n",
       "200       -0.000750 -0.000250 -0.00025\n",
       "400       -0.000250  0.000000 -0.00035\n",
       "500        0.000751  0.000500  0.00035\n",
       "700        0.000750  0.000000  0.00010\n",
       "800        0.001000  0.000500 -0.00010\n",
       "...             ...       ...      ...\n",
       "2999000   -0.000545  0.000000  0.00045\n",
       "2999100   -0.000546  0.000000 -0.00025\n",
       "2999500    0.000546  0.000000 -0.00015\n",
       "2999600    0.000819  0.000000  0.00005\n",
       "2999700    0.000818  0.000492  0.00010\n",
       "\n",
       "[17077 rows x 3 columns]"
      ]
     },
     "execution_count": 146,
     "metadata": {},
     "output_type": "execute_result"
    }
   ],
   "source": [
    "rets[(rets['ink'] != 0) & (rets['resin'] != 0)]"
   ]
  },
  {
   "cell_type": "code",
   "execution_count": 147,
   "metadata": {},
   "outputs": [],
   "source": [
    "rets = rets[~((rets['ink'] == 0) & (rets['kelp'] == 0) & (rets['resin'] == 0))]"
   ]
  },
  {
   "cell_type": "code",
   "execution_count": 148,
   "metadata": {},
   "outputs": [
    {
     "data": {
      "text/plain": [
       "<Axes: xlabel='timestamp'>"
      ]
     },
     "execution_count": 148,
     "metadata": {},
     "output_type": "execute_result"
    },
    {
     "data": {
      "image/png": "[encoded data removed]",
      "text/plain": [
       "<Figure size 640x480 with 1 Axes>"
      ]
     },
     "metadata": {},
     "output_type": "display_data"
    }
   ],
   "source": [
    "rets.plot()"
   ]
  },
  {
   "cell_type": "code",
   "execution_count": 149,
   "metadata": {},
   "outputs": [
    {
     "data": {
      "text/plain": [
       "np.float64(2044.5)"
      ]
     },
     "execution_count": 149,
     "metadata": {},
     "output_type": "execute_result"
    }
   ],
   "source": [
    "kelp.mid_price.max()"
   ]
  },
  {
   "cell_type": "code",
   "execution_count": 151,
   "metadata": {},
   "outputs": [
    {
     "data": {
      "text/plain": [
       "[{'t1': 'kelp',\n",
       "  't2': 'ink',\n",
       "  'beta': np.float64(0.135),\n",
       "  'theta': np.float64(0.0006500565795506888),\n",
       "  'mu': np.float64(0.8800733230581136),\n",
       "  'sigma': np.float64(0.00037149847241683373),\n",
       "  'likl': np.float64(6.479391789954061)}]"
      ]
     },
     "execution_count": 151,
     "metadata": {},
     "output_type": "execute_result"
    }
   ],
   "source": [
    "price_data = {'kelp':np.array(df.kelp),'ink':np.array(df.ink)}\n",
    "dt = 1\n",
    "analyze_tickers(price_data,dt)"
   ]
  },
  {
   "cell_type": "code",
   "execution_count": 152,
   "metadata": {},
   "outputs": [
    {
     "data": {
      "text/plain": [
       "<Axes: xlabel='timestamp'>"
      ]
     },
     "execution_count": 152,
     "metadata": {},
     "output_type": "execute_result"
    },
    {
     "data": {
      "image/png": "[encoded data removed]",
      "text/plain": [
       "<Figure size 640x480 with 1 Axes>"
      ]
     },
     "metadata": {},
     "output_type": "display_data"
    }
   ],
   "source": [
    "kelp['mid_price'].plot()"
   ]
  },
  {
   "cell_type": "code",
   "execution_count": null,
   "metadata": {},
   "outputs": [],
   "source": [
    "plot = df.ink-df.kelp"
   ]
  },
  {
   "cell_type": "code",
   "execution_count": 162,
   "metadata": {},
   "outputs": [
    {
     "data": {
      "text/plain": [
       "<Axes: xlabel='timestamp'>"
      ]
     },
     "execution_count": 162,
     "metadata": {},
     "output_type": "execute_result"
    },
    {
     "data": {
      "image/png": "[encoded data removed]",
      "text/plain": [
       "<Figure size 640x480 with 1 Axes>"
      ]
     },
     "metadata": {},
     "output_type": "display_data"
    }
   ],
   "source": [
    "df.ink.plot()"
   ]
  },
  {
   "cell_type": "code",
   "execution_count": 163,
   "metadata": {},
   "outputs": [
    {
     "data": {
      "text/plain": [
       "<Axes: xlabel='timestamp'>"
      ]
     },
     "execution_count": 163,
     "metadata": {},
     "output_type": "execute_result"
    },
    {
     "data": {
      "image/png": "[encoded data removed]",
      "text/plain": [
       "<Figure size 640x480 with 1 Axes>"
      ]
     },
     "metadata": {},
     "output_type": "display_data"
    }
   ],
   "source": [
    "plot.plot()"
   ]
  },
  {
   "cell_type": "code",
   "execution_count": 171,
   "metadata": {},
   "outputs": [
    {
     "name": "stdout",
     "output_type": "stream",
     "text": [
      "Collecting scipy\n",
      "  Downloading scipy-1.15.2-cp313-cp313-macosx_14_0_x86_64.whl.metadata (61 kB)\n",
      "Requirement already satisfied: numpy<2.5,>=1.23.5 in /Library/Frameworks/Python.framework/Versions/3.13/lib/python3.13/site-packages (from scipy) (2.2.4)\n",
      "Downloading scipy-1.15.2-cp313-cp313-macosx_14_0_x86_64.whl (25.2 MB)\n",
      "\u001b[2K   \u001b[90m━━━━━━━━━━━━━━━━━━━━━━━━━━━━━━━━━━━━━━━━\u001b[0m \u001b[32m25.2/25.2 MB\u001b[0m \u001b[31m1.5 MB/s\u001b[0m eta \u001b[36m0:00:00\u001b[0ma \u001b[36m0:00:01\u001b[0mm\n",
      "\u001b[?25hInstalling collected packages: scipy\n",
      "Successfully installed scipy-1.15.2\n"
     ]
    }
   ],
   "source": [
    "!pip3 install scipy"
   ]
  },
  {
   "cell_type": "code",
   "execution_count": 172,
   "metadata": {},
   "outputs": [],
   "source": [
    "import scipy.optimize as opt"
   ]
  },
  {
   "cell_type": "code",
   "execution_count": 395,
   "metadata": {},
   "outputs": [],
   "source": [
    "class Metrics(): \n",
    "    # A simple container class to store return, volatility, and Sharpe ratio\n",
    "    def __init__(self, ret, vol, sr): \n",
    "        self.ret = ret \n",
    "        self.vol = vol \n",
    "        self.sr = sr \n",
    "    def __repr__ (self):\n",
    "        return f'Metrics: (ret: {self.ret}; vol: {self.vol}; sharpe: {self.sr})'\n",
    "    def __str__ (self):\n",
    "        return f'Metrics: (ret: {self.ret}; vol: {self.vol}; sharpe: {self.sr})'\n",
    "\n",
    "class Alpaca_Broker(): \n",
    "    def __init__ (): \n",
    "        model = MACD_Model() \n",
    "        \n",
    "class MACD_Model(): \n",
    "    def __init__(self, df=None, config_path='config.yaml'): \n",
    "        # Initialize the model with a dataframe and configuration file\n",
    "        self.df = df\n",
    "\n",
    "        # Load configuration settings from a YAML file\n",
    "        # with open(config_path) as file: \n",
    "        #     config = yaml.safe_load(file)\n",
    "\n",
    "        # Initialize key parameters based on config\n",
    "        self.capital = self.initial_capital = 100# config['initial_capital']\n",
    "        self.alpha = 1 # config['alpha']  # Allocation ratio to investment vs cash\n",
    "        self.ir = 0#config['interest_rate']  # Constant interest rate if ir_const is true\n",
    "        self.invested = self.alpha * self.capital\n",
    "        self.cash = (1 - self.alpha) * self.capital \n",
    "        self.is_long = True  # Indicates if the portfolio is currently long\n",
    "        self.res = None  # Placeholder for simulation results\n",
    "        self.ir_const = True #config['ir_const']  # Flag for constant interest rate\n",
    "\n",
    "    def _calculate_returns(self, params, start, end):\n",
    "        # Calculate returns for a given set of MACD parameters within a time range\n",
    "        df_old = self.df.copy()  # Preserve original dataframe state\n",
    "        self.capital = self.initial_capital \n",
    "        self.invested = self.alpha * self.capital\n",
    "        self.cash = (1 - self.alpha) * self.capital \n",
    "        self.is_long = True\n",
    "        self.res = None\n",
    "        \n",
    "        self.set_params(params)  # Update moving average parameters\n",
    "        \n",
    "        # Run the simulation and return daily returns\n",
    "        simulation_results, _ = self.run_simulation(start, end)\n",
    "        self.df = df_old  # Restore original dataframe\n",
    "        return simulation_results['Daily Return'].dropna()\n",
    "\n",
    "    def calculate_metrics(self, metric_type, ret=None):\n",
    "        # Compute annualized metrics: return, volatility, or Sharpe ratio\n",
    "        if ret is None: \n",
    "            ret = self.res['Daily Return']\n",
    "\n",
    "        # Calculate total and annualized returns\n",
    "        years = ret.shape[0] / 252  # Assuming 252 trading days per year\n",
    "        totret = (ret + 1).prod() - 1\n",
    "        annret = (1 + totret) ** (1 / years) - 1\n",
    "        \n",
    "        # Calculate annualized volatility\n",
    "        vol = ret.std()\n",
    "        annvol = vol * np.sqrt(252)\n",
    "\n",
    "        if metric_type == 'return':\n",
    "            return -annret  # Negative sign for minimization in optimization\n",
    "        elif metric_type == 'volatility':\n",
    "            return annvol\n",
    "        elif metric_type == 'sharpe':\n",
    "            # Compute risk-free rate based on configuration\n",
    "            rf = (self.rf + 1).prod() ** (1 / years) - 1 if not self.ir_const else self.ir \n",
    "            return -(annret - rf) / annvol  # Negative Sharpe for optimization\n",
    "\n",
    "    def tune(self, start, end): \n",
    "        # Optimize MACD parameters to maximize Sharpe, return, or minimize volatility\n",
    "        def optimize_metric(metric, initial_guesses, bounds):\n",
    "            best_metric = np.inf if metric == 'volatility' else -np.inf\n",
    "            best_params = None\n",
    "\n",
    "            for guess in initial_guesses:\n",
    "                # Ensure valid parameter ordering (longer MA > shorter MA)\n",
    "                if guess[0] <= guess[1]:\n",
    "                    print(guess)\n",
    "                    continue\n",
    "                \n",
    "                # Minimize the chosen metric using L-BFGS-B method\n",
    "                result = opt.minimize(lambda params: self.calculate_metrics(\n",
    "                    metric, self._calculate_returns(params, start, end)), \n",
    "                    guess, bounds=bounds, method='L-BFGS-B')  # Changed from Nelder-Mead for efficiency\n",
    "                \n",
    "                # Update best parameters and metric value\n",
    "                metric_value = result.fun if metric == 'volatility' else -result.fun\n",
    "                if (metric == 'volatility' and metric_value < best_metric) or (\n",
    "                    metric != 'volatility' and metric_value > best_metric):\n",
    "                    best_metric = metric_value\n",
    "                    best_params = result.x\n",
    "                    print(metric, best_metric, best_params)\n",
    "            return best_params, best_metric\n",
    "        \n",
    "        # Define parameter bounds and initial guesses\n",
    "        bounds = [(10, 200), (5, 50)]  # Long MA: [10, 200], Short MA: [5, 50]\n",
    "        initial_guesses = [[l, s] for l in np.linspace(5, 20, 5) \n",
    "                           for s in np.linspace(1, 15, 5) if l > s]\n",
    "        \n",
    "        # Optimize metrics\n",
    "        result_s, max_sharpe = optimize_metric('sharpe', initial_guesses, bounds)\n",
    "        result_r, max_ret = optimize_metric('return', initial_guesses, bounds)\n",
    "        result_v, min_vol = optimize_metric('volatility', initial_guesses, bounds)\n",
    "\n",
    "        # Print results\n",
    "        print(\"Optimized parameters for:\")\n",
    "        print(\"Sharpe Ratio: \", result_s)\n",
    "        print(\"Return: \", result_r)\n",
    "        print(\"Volatility: \", result_v)\n",
    "\n",
    "        return result_s, result_r, result_v\n",
    "\n",
    "    def set_params(self, params): \n",
    "        # Calculate moving averages based on input parameters\n",
    "        ma_l, ma_s = params\n",
    "        self.df['MA Long'] = self.df['Adj Close'].rolling(window=int(ma_l)).mean()\n",
    "        self.df['MA Short'] = self.df['Adj Close'].rolling(window=int(ma_s)).mean()\n",
    "\n",
    "    def run_simulation(self, start_date='1920', end_date='2100', data=None): \n",
    "        # Simulate trading strategy and compute results\n",
    "        # if not self.ir_const:\n",
    "        #     # Fetch risk-free rates for non-constant interest rate scenario\n",
    "        #     rf_rates = np.array((pdr.DataReader('IRLTLT01DEM156N', 'fred', start=start_date, end=end_date)/100)['IRLTLT01DEM156N'])\n",
    "        #     self.rf = rf_rates = (1 + rf_rates) ** (1/12) - 1  # Monthly compounding\n",
    "\n",
    "        # Subset dataframe based on date range\n",
    "        asset_df = self.df if start_date == '1920' and end_date == '2100' else \\\n",
    "                   self.df[(self.df.index >= start_date) & (self.df.index <= end_date)]\n",
    "\n",
    "        if data is not None: \n",
    "            asset_df = data\n",
    "\n",
    "        # Initialize shares and record initial state\n",
    "        self.shares = self.invested / asset_df.iloc[0]['Adj Close']\n",
    "        p = [{'Capital': self.capital, 'Shares': self.shares, \n",
    "              'Cash': self.cash, 'Asset': self.invested}]\n",
    "            \n",
    "        day = 0\n",
    "        for date, row in asset_df.iloc[1:].iterrows(): \n",
    "            self.trade(row, day, date)\n",
    "            p.append({'Capital': self.capital, 'Shares': self.shares, \n",
    "                      'Cash': self.cash, 'Asset': self.invested})\n",
    "\n",
    "        # Record results and calculate metrics\n",
    "        self.res = pd.DataFrame(p, index=asset_df.index)\n",
    "        self.res['Daily Return'] = self.res['Capital'].pct_change()\n",
    "        metrics = Metrics(-self.calculate_metrics('return'), \n",
    "                          self.calculate_metrics('volatility'), \n",
    "                          -self.calculate_metrics('sharpe'))\n",
    "        return self.res, metrics\n",
    "\n",
    "    def trade(self, data, day_ind=None, date=None): \n",
    "        # Perform trades based on moving average crossover strategy\n",
    "        if not self.ir_const and day_ind is not None and date is not None and date.day == 1: \n",
    "            self.cash *= (1 + self.rf[day_ind])\n",
    "            day_ind += 1 \n",
    "\n",
    "        if self.ir_const:\n",
    "            self.cash *= (1 + self.ir) ** (1 / 252)  # Daily compounding with constant rate \n",
    "        \n",
    "        self.invested = self.shares * data['Adj Close']\n",
    "        self.capital = self.cash + self.invested\n",
    "\n",
    "        if pd.notna(data['MA Long']) and pd.notna(data['MA Short']):\n",
    "            # Execute buy/sell based on crossover\n",
    "            if data['MA Long'] > data['MA Short'] and self.is_long:\n",
    "                self._sell(data['Adj Close'])\n",
    "            elif data['MA Long'] <= data['MA Short'] and not self.is_long:\n",
    "                self._buy(data['Adj Close'])\n",
    "\n",
    "    def _buy(self, price): \n",
    "        # Buy shares with allocated capital\n",
    "        self.is_long = True\n",
    "        self.cash = (1 - self.alpha) * self.capital\n",
    "        self.invested = self.alpha * self.capital \n",
    "        self.shares = self.invested / price\n",
    "        \n",
    "    def _sell(self, price): \n",
    "        # Sell shares and update cash\n",
    "        self.is_long = False\n",
    "        self.cash = self.alpha * self.capital\n",
    "        self.invested = (1 - self.alpha) * self.capital \n",
    "        self.shares = self.invested / price"
   ]
  },
  {
   "cell_type": "code",
   "execution_count": 396,
   "metadata": {},
   "outputs": [],
   "source": [
    "drop_col = ['product','bid_volume_1','bid_price_2','bid_volume_2','bid_price_3','bid_volume_3','ask_price_1','ask_volume_1','ask_price_2','ask_volume_2','ask_price_3','ask_volume_3']\n",
    "drop_col = ['product','bid_price_1','bid_volume_1','bid_price_2','bid_volume_2','bid_price_3','bid_volume_3','ask_price_1','ask_volume_1','ask_price_2','ask_volume_2','ask_price_3','ask_volume_3']"
   ]
  },
  {
   "cell_type": "code",
   "execution_count": 397,
   "metadata": {},
   "outputs": [],
   "source": [
    "kelp = prices.loc[prices['product'] == 'KELP'].drop(columns=drop_col).ffill()\n",
    "ink = prices.loc[prices['product'] == 'SQUID_INK'].drop(columns=drop_col).ffill()"
   ]
  },
  {
   "cell_type": "code",
   "execution_count": 398,
   "metadata": {},
   "outputs": [],
   "source": [
    "kelp.index = kelp.timestamp\n",
    "ink.index = ink.timestamp"
   ]
  },
  {
   "cell_type": "code",
   "execution_count": 399,
   "metadata": {},
   "outputs": [],
   "source": [
    "kelp['p'] = kelp['mid_price']\n",
    "ink['p'] = ink['mid_price']"
   ]
  },
  {
   "cell_type": "code",
   "execution_count": 400,
   "metadata": {},
   "outputs": [],
   "source": [
    "kelp.drop(columns=['index', 'timestamp','mid_price'],inplace=True)\n",
    "ink.drop(columns=['index', 'timestamp','mid_price'],inplace=True)"
   ]
  },
  {
   "cell_type": "code",
   "execution_count": 401,
   "metadata": {},
   "outputs": [],
   "source": [
    "ink['Adj Close'] = ink.p"
   ]
  },
  {
   "cell_type": "code",
   "execution_count": 402,
   "metadata": {},
   "outputs": [],
   "source": [
    "model = MACD_Model(ink)"
   ]
  },
  {
   "cell_type": "code",
   "execution_count": 403,
   "metadata": {},
   "outputs": [
    {
     "name": "stdout",
     "output_type": "stream",
     "text": [
      "sharpe -0.3333659619851819 [10.  5.]\n",
      "sharpe -0.07983288017352241 [10.  8.]\n",
      "sharpe 0.14036090024897074 [12.5 11.5]\n",
      "return -0.0022827223286678855 [10.  5.]\n",
      "return -0.0005394259068846052 [10.  8.]\n",
      "return 0.0009562853388789261 [12.5 11.5]\n",
      "volatility 0.006847496712244882 [10.  5.]\n",
      "volatility 0.006756939067112759 [10.  8.]\n",
      "volatility 0.006731053446505128 [20.  8.]\n",
      "volatility 0.006678953037316377 [20.  11.5]\n",
      "volatility 0.006622500627033114 [20. 15.]\n",
      "Optimized parameters for:\n",
      "Sharpe Ratio:  [12.5 11.5]\n",
      "Return:  [12.5 11.5]\n",
      "Volatility:  [20. 15.]\n"
     ]
    }
   ],
   "source": [
    "params = model.tune(0,400000)"
   ]
  },
  {
   "cell_type": "code",
   "execution_count": 377,
   "metadata": {},
   "outputs": [],
   "source": [
    "kelp['r'] = kelp['p'].pct_change()\n",
    "ink['r'] = ink['p'].pct_change()"
   ]
  },
  {
   "cell_type": "code",
   "execution_count": 378,
   "metadata": {},
   "outputs": [
    {
     "data": {
      "text/html": [
       "<div>\n",
       "<style scoped>\n",
       "    .dataframe tbody tr th:only-of-type {\n",
       "        vertical-align: middle;\n",
       "    }\n",
       "\n",
       "    .dataframe tbody tr th {\n",
       "        vertical-align: top;\n",
       "    }\n",
       "\n",
       "    .dataframe thead th {\n",
       "        text-align: right;\n",
       "    }\n",
       "</style>\n",
       "<table border=\"1\" class=\"dataframe\">\n",
       "  <thead>\n",
       "    <tr style=\"text-align: right;\">\n",
       "      <th></th>\n",
       "      <th>day</th>\n",
       "      <th>p</th>\n",
       "      <th>r</th>\n",
       "    </tr>\n",
       "    <tr>\n",
       "      <th>timestamp</th>\n",
       "      <th></th>\n",
       "      <th></th>\n",
       "      <th></th>\n",
       "    </tr>\n",
       "  </thead>\n",
       "  <tbody>\n",
       "    <tr>\n",
       "      <th>0</th>\n",
       "      <td>-2</td>\n",
       "      <td>2000.0</td>\n",
       "      <td>NaN</td>\n",
       "    </tr>\n",
       "    <tr>\n",
       "      <th>100</th>\n",
       "      <td>-2</td>\n",
       "      <td>2001.0</td>\n",
       "      <td>0.000500</td>\n",
       "    </tr>\n",
       "    <tr>\n",
       "      <th>200</th>\n",
       "      <td>-2</td>\n",
       "      <td>2000.5</td>\n",
       "      <td>-0.000250</td>\n",
       "    </tr>\n",
       "    <tr>\n",
       "      <th>300</th>\n",
       "      <td>-2</td>\n",
       "      <td>2000.5</td>\n",
       "      <td>0.000000</td>\n",
       "    </tr>\n",
       "    <tr>\n",
       "      <th>400</th>\n",
       "      <td>-2</td>\n",
       "      <td>2000.5</td>\n",
       "      <td>0.000000</td>\n",
       "    </tr>\n",
       "    <tr>\n",
       "      <th>...</th>\n",
       "      <td>...</td>\n",
       "      <td>...</td>\n",
       "      <td>...</td>\n",
       "    </tr>\n",
       "    <tr>\n",
       "      <th>2999500</th>\n",
       "      <td>0</td>\n",
       "      <td>2033.5</td>\n",
       "      <td>0.000000</td>\n",
       "    </tr>\n",
       "    <tr>\n",
       "      <th>2999600</th>\n",
       "      <td>0</td>\n",
       "      <td>2033.5</td>\n",
       "      <td>0.000000</td>\n",
       "    </tr>\n",
       "    <tr>\n",
       "      <th>2999700</th>\n",
       "      <td>0</td>\n",
       "      <td>2034.5</td>\n",
       "      <td>0.000492</td>\n",
       "    </tr>\n",
       "    <tr>\n",
       "      <th>2999800</th>\n",
       "      <td>0</td>\n",
       "      <td>2033.0</td>\n",
       "      <td>-0.000737</td>\n",
       "    </tr>\n",
       "    <tr>\n",
       "      <th>2999900</th>\n",
       "      <td>0</td>\n",
       "      <td>2033.5</td>\n",
       "      <td>0.000246</td>\n",
       "    </tr>\n",
       "  </tbody>\n",
       "</table>\n",
       "<p>30000 rows × 3 columns</p>\n",
       "</div>"
      ],
      "text/plain": [
       "           day       p         r\n",
       "timestamp                       \n",
       "0           -2  2000.0       NaN\n",
       "100         -2  2001.0  0.000500\n",
       "200         -2  2000.5 -0.000250\n",
       "300         -2  2000.5  0.000000\n",
       "400         -2  2000.5  0.000000\n",
       "...        ...     ...       ...\n",
       "2999500      0  2033.5  0.000000\n",
       "2999600      0  2033.5  0.000000\n",
       "2999700      0  2034.5  0.000492\n",
       "2999800      0  2033.0 -0.000737\n",
       "2999900      0  2033.5  0.000246\n",
       "\n",
       "[30000 rows x 3 columns]"
      ]
     },
     "execution_count": 378,
     "metadata": {},
     "output_type": "execute_result"
    }
   ],
   "source": [
    "kelp"
   ]
  },
  {
   "cell_type": "code",
   "execution_count": 379,
   "metadata": {},
   "outputs": [
    {
     "data": {
      "text/plain": [
       "<Axes: xlabel='timestamp'>"
      ]
     },
     "execution_count": 379,
     "metadata": {},
     "output_type": "execute_result"
    },
    {
     "data": {
      "image/png": "[encoded data removed]",
      "text/plain": [
       "<Figure size 640x480 with 1 Axes>"
      ]
     },
     "metadata": {},
     "output_type": "display_data"
    }
   ],
   "source": [
    "kelp.r.plot()"
   ]
  },
  {
   "cell_type": "code",
   "execution_count": 380,
   "metadata": {},
   "outputs": [
    {
     "data": {
      "text/plain": [
       "np.int64(400100)"
      ]
     },
     "execution_count": 380,
     "metadata": {},
     "output_type": "execute_result"
    }
   ],
   "source": [
    "kelp.r.argmin() * 100 - ink.r.argmin() * 100"
   ]
  },
  {
   "cell_type": "code",
   "execution_count": 381,
   "metadata": {},
   "outputs": [],
   "source": [
    "c = 1000"
   ]
  },
  {
   "cell_type": "code",
   "execution_count": 382,
   "metadata": {},
   "outputs": [],
   "source": [
    "ink_shift = ink.shift(c)"
   ]
  },
  {
   "cell_type": "code",
   "execution_count": 383,
   "metadata": {},
   "outputs": [
    {
     "data": {
      "text/html": [
       "<div>\n",
       "<style scoped>\n",
       "    .dataframe tbody tr th:only-of-type {\n",
       "        vertical-align: middle;\n",
       "    }\n",
       "\n",
       "    .dataframe tbody tr th {\n",
       "        vertical-align: top;\n",
       "    }\n",
       "\n",
       "    .dataframe thead th {\n",
       "        text-align: right;\n",
       "    }\n",
       "</style>\n",
       "<table border=\"1\" class=\"dataframe\">\n",
       "  <thead>\n",
       "    <tr style=\"text-align: right;\">\n",
       "      <th></th>\n",
       "      <th>day</th>\n",
       "      <th>p</th>\n",
       "      <th>r</th>\n",
       "    </tr>\n",
       "    <tr>\n",
       "      <th>timestamp</th>\n",
       "      <th></th>\n",
       "      <th></th>\n",
       "      <th></th>\n",
       "    </tr>\n",
       "  </thead>\n",
       "  <tbody>\n",
       "    <tr>\n",
       "      <th>100100</th>\n",
       "      <td>-2.0</td>\n",
       "      <td>2000.0</td>\n",
       "      <td>0.000000</td>\n",
       "    </tr>\n",
       "    <tr>\n",
       "      <th>100200</th>\n",
       "      <td>-2.0</td>\n",
       "      <td>1998.5</td>\n",
       "      <td>-0.000750</td>\n",
       "    </tr>\n",
       "    <tr>\n",
       "      <th>100300</th>\n",
       "      <td>-2.0</td>\n",
       "      <td>1998.5</td>\n",
       "      <td>0.000000</td>\n",
       "    </tr>\n",
       "    <tr>\n",
       "      <th>100400</th>\n",
       "      <td>-2.0</td>\n",
       "      <td>1998.0</td>\n",
       "      <td>-0.000250</td>\n",
       "    </tr>\n",
       "    <tr>\n",
       "      <th>100500</th>\n",
       "      <td>-2.0</td>\n",
       "      <td>1999.5</td>\n",
       "      <td>0.000751</td>\n",
       "    </tr>\n",
       "    <tr>\n",
       "      <th>...</th>\n",
       "      <td>...</td>\n",
       "      <td>...</td>\n",
       "      <td>...</td>\n",
       "    </tr>\n",
       "    <tr>\n",
       "      <th>2999500</th>\n",
       "      <td>0.0</td>\n",
       "      <td>1850.5</td>\n",
       "      <td>0.000000</td>\n",
       "    </tr>\n",
       "    <tr>\n",
       "      <th>2999600</th>\n",
       "      <td>0.0</td>\n",
       "      <td>1849.5</td>\n",
       "      <td>-0.000540</td>\n",
       "    </tr>\n",
       "    <tr>\n",
       "      <th>2999700</th>\n",
       "      <td>0.0</td>\n",
       "      <td>1850.5</td>\n",
       "      <td>0.000541</td>\n",
       "    </tr>\n",
       "    <tr>\n",
       "      <th>2999800</th>\n",
       "      <td>0.0</td>\n",
       "      <td>1851.5</td>\n",
       "      <td>0.000540</td>\n",
       "    </tr>\n",
       "    <tr>\n",
       "      <th>2999900</th>\n",
       "      <td>0.0</td>\n",
       "      <td>1850.5</td>\n",
       "      <td>-0.000540</td>\n",
       "    </tr>\n",
       "  </tbody>\n",
       "</table>\n",
       "<p>28999 rows × 3 columns</p>\n",
       "</div>"
      ],
      "text/plain": [
       "           day       p         r\n",
       "timestamp                       \n",
       "100100    -2.0  2000.0  0.000000\n",
       "100200    -2.0  1998.5 -0.000750\n",
       "100300    -2.0  1998.5  0.000000\n",
       "100400    -2.0  1998.0 -0.000250\n",
       "100500    -2.0  1999.5  0.000751\n",
       "...        ...     ...       ...\n",
       "2999500    0.0  1850.5  0.000000\n",
       "2999600    0.0  1849.5 -0.000540\n",
       "2999700    0.0  1850.5  0.000541\n",
       "2999800    0.0  1851.5  0.000540\n",
       "2999900    0.0  1850.5 -0.000540\n",
       "\n",
       "[28999 rows x 3 columns]"
      ]
     },
     "execution_count": 383,
     "metadata": {},
     "output_type": "execute_result"
    }
   ],
   "source": [
    "ink_shift.iloc[c+1:]"
   ]
  },
  {
   "cell_type": "code",
   "execution_count": 384,
   "metadata": {},
   "outputs": [],
   "source": [
    "from sklearn.linear_model import LinearRegression"
   ]
  },
  {
   "cell_type": "code",
   "execution_count": null,
   "metadata": {},
   "outputs": [],
   "source": [
    "max_score = 0 \n",
    "best_model = None \n",
    "shift = 0 \n",
    "\n",
    "for c in range(10000): \n",
    "\n",
    "    # ink_shift = ink.shift(c)\n",
    "    kelp_shift = kelp.shift(c)\n",
    "\n",
    "    # Align and drop missing data\n",
    "    aligned = pd.DataFrame({'x': kelp_shift.p, 'y': ink.p}).dropna()\n",
    "    x = aligned['x'].values.reshape(-1, 1)\n",
    "    y = aligned['y'].values\n",
    "\n",
    "    # Reshape x for sklearn (expects 2D array)\n",
    "    x_ = x.reshape(-1, 1)\n",
    "\n",
    "    model = LinearRegression().fit(x_, y)\n",
    "\n",
    "    r_squared = model.score(x_, y)  # This is R²\n",
    "    if r_squared > max_score: \n",
    "        max_score = r_squared\n",
    "        best_model = model \n",
    "        shift = c \n"
   ]
  },
  {
   "cell_type": "code",
   "execution_count": 335,
   "metadata": {},
   "outputs": [
    {
     "data": {
      "image/png": "[encoded data removed]",
      "text/plain": [
       "<Figure size 640x480 with 1 Axes>"
      ]
     },
     "metadata": {},
     "output_type": "display_data"
    },
    {
     "name": "stdout",
     "output_type": "stream",
     "text": [
      "5152\n"
     ]
    }
   ],
   "source": [
    "# Plot\n",
    "plt.plot(x, y, 'o', markersize=1, label='Original data')\n",
    "plt.plot(x, best_model.predict(x_), 'r', label='Fitted line')\n",
    "plt.legend()\n",
    "plt.title(f'R² = {r_squared:.4f}')\n",
    "plt.show()\n",
    "print(shift)"
   ]
  },
  {
   "cell_type": "code",
   "execution_count": 368,
   "metadata": {},
   "outputs": [
    {
     "name": "stdout",
     "output_type": "stream",
     "text": [
      "Best lag: 6800, Best dx: -1.0000, Max log-return: 0.1697\n"
     ]
    }
   ],
   "source": [
    "max_ret = -np.inf\n",
    "best_c = 0\n",
    "best_dx = 0\n",
    "\n",
    "for c in range(-10000, 10010, 10):\n",
    "    ink_shift = ink.shift(-c) if c < 0 else ink\n",
    "    kelp_shift = kelp if c < 0 else kelp.shift(c)\n",
    "\n",
    "    df = pd.DataFrame({'x': kelp_shift.r, 'y': ink_shift.r}).dropna()\n",
    "    if len(df) < 50:  # skip if not enough data\n",
    "        continue\n",
    "\n",
    "    x = df['x'].values\n",
    "    y = df['y'].values\n",
    "\n",
    "    for dx in np.linspace(-1, 1, 100):\n",
    "        spread_ret = x + dx * y\n",
    "\n",
    "        if np.any(1 + spread_ret <= 0):\n",
    "            continue  # skip invalid returns\n",
    "\n",
    "        ret = np.sum(np.log1p(spread_ret))  # log return\n",
    "        if ret > max_ret:\n",
    "            max_ret = ret\n",
    "            best_c = c\n",
    "            best_dx = dx\n",
    "\n",
    "print(f\"Best lag: {best_c}, Best dx: {best_dx:.4f}, Max log-return: {max_ret:.4f}\")"
   ]
  },
  {
   "cell_type": "markdown",
   "metadata": {},
   "source": [
    "119837647.0, 0, 1"
   ]
  },
  {
   "cell_type": "code",
   "execution_count": 356,
   "metadata": {},
   "outputs": [
    {
     "data": {
      "text/plain": [
       "np.float64(1.8017732537234217)"
      ]
     },
     "execution_count": 356,
     "metadata": {},
     "output_type": "execute_result"
    }
   ],
   "source": [
    "max_ret"
   ]
  },
  {
   "cell_type": "code",
   "execution_count": 357,
   "metadata": {},
   "outputs": [
    {
     "data": {
      "text/plain": [
       "6790"
      ]
     },
     "execution_count": 357,
     "metadata": {},
     "output_type": "execute_result"
    }
   ],
   "source": [
    "best_c"
   ]
  },
  {
   "cell_type": "code",
   "execution_count": 358,
   "metadata": {},
   "outputs": [
    {
     "data": {
      "text/plain": [
       "np.float64(-5.0)"
      ]
     },
     "execution_count": 358,
     "metadata": {},
     "output_type": "execute_result"
    }
   ],
   "source": [
    "best_dx"
   ]
  },
  {
   "cell_type": "code",
   "execution_count": 369,
   "metadata": {},
   "outputs": [],
   "source": [
    "kelp_shift = kelp.shift(6800)"
   ]
  },
  {
   "cell_type": "code",
   "execution_count": 370,
   "metadata": {},
   "outputs": [
    {
     "data": {
      "text/plain": [
       "<Axes: xlabel='timestamp'>"
      ]
     },
     "execution_count": 370,
     "metadata": {},
     "output_type": "execute_result"
    },
    {
     "data": {
      "image/png": "[encoded data removed]",
      "text/plain": [
       "<Figure size 640x480 with 1 Axes>"
      ]
     },
     "metadata": {},
     "output_type": "display_data"
    }
   ],
   "source": [
    "(kelp_shift -1*ink).p.plot()"
   ]
  },
  {
   "cell_type": "markdown",
   "metadata": {},
   "source": [
    "[200:50,dont trade] - [100:-10]\n",
    "[200:60,dont trade] - [100:-20]\n"
   ]
  },
  {
   "cell_type": "code",
   "execution_count": null,
   "metadata": {},
   "outputs": [],
   "source": []
  },
  {
   "cell_type": "code",
   "execution_count": 246,
   "metadata": {},
   "outputs": [
    {
     "data": {
      "text/plain": [
       "<Axes: xlabel='timestamp'>"
      ]
     },
     "execution_count": 246,
     "metadata": {},
     "output_type": "execute_result"
    },
    {
     "data": {
      "image/png": "[encoded data removed]",
      "text/plain": [
       "<Figure size 640x480 with 1 Axes>"
      ]
     },
     "metadata": {},
     "output_type": "display_data"
    }
   ],
   "source": [
    "ink.r.plot()"
   ]
  },
  {
   "cell_type": "code",
   "execution_count": null,
   "metadata": {},
   "outputs": [],
   "source": [
    "ink.r"
   ]
  },
  {
   "cell_type": "code",
   "execution_count": 242,
   "metadata": {},
   "outputs": [
    {
     "data": {
      "text/plain": [
       "<Axes: xlabel='timestamp'>"
      ]
     },
     "execution_count": 242,
     "metadata": {},
     "output_type": "execute_result"
    },
    {
     "data": {
      "image/png": "[encoded data removed]",
      "text/plain": [
       "<Figure size 640x480 with 1 Axes>"
      ]
     },
     "metadata": {},
     "output_type": "display_data"
    }
   ],
   "source": [
    "(kelp - ink).r.plot()"
   ]
  },
  {
   "cell_type": "code",
   "execution_count": 219,
   "metadata": {},
   "outputs": [],
   "source": [
    "model = MACD_Model(stock)"
   ]
  },
  {
   "cell_type": "code",
   "execution_count": 220,
   "metadata": {},
   "outputs": [
    {
     "name": "stdout",
     "output_type": "stream",
     "text": [
      "sharpe 0.022760115671766792 [2. 1.]\n",
      "return 0.0001395490201328009 [2. 1.]\n",
      "volatility 0.006131296613132203 [2. 1.]\n"
     ]
    },
    {
     "ename": "KeyboardInterrupt",
     "evalue": "",
     "output_type": "error",
     "traceback": [
      "\u001b[31m---------------------------------------------------------------------------\u001b[39m",
      "\u001b[31mKeyboardInterrupt\u001b[39m                         Traceback (most recent call last)",
      "\u001b[36mCell\u001b[39m\u001b[36m \u001b[39m\u001b[32mIn[220]\u001b[39m\u001b[32m, line 1\u001b[39m\n\u001b[32m----> \u001b[39m\u001b[32m1\u001b[39m optimized_params = \u001b[43mmodel\u001b[49m\u001b[43m.\u001b[49m\u001b[43mtune\u001b[49m\u001b[43m(\u001b[49m\u001b[32;43m0\u001b[39;49m\u001b[43m,\u001b[49m\u001b[32;43m3000000\u001b[39;49m\u001b[43m)\u001b[49m\n",
      "\u001b[36mCell\u001b[39m\u001b[36m \u001b[39m\u001b[32mIn[212]\u001b[39m\u001b[32m, line 108\u001b[39m, in \u001b[36mMACD_Model.tune\u001b[39m\u001b[34m(self, start, end)\u001b[39m\n\u001b[32m    106\u001b[39m result_s, max_sharpe = optimize_metric(\u001b[33m'\u001b[39m\u001b[33msharpe\u001b[39m\u001b[33m'\u001b[39m, initial_guesses, bounds)\n\u001b[32m    107\u001b[39m result_r, max_ret = optimize_metric(\u001b[33m'\u001b[39m\u001b[33mreturn\u001b[39m\u001b[33m'\u001b[39m, initial_guesses, bounds)\n\u001b[32m--> \u001b[39m\u001b[32m108\u001b[39m result_v, min_vol = \u001b[43moptimize_metric\u001b[49m\u001b[43m(\u001b[49m\u001b[33;43m'\u001b[39;49m\u001b[33;43mvolatility\u001b[39;49m\u001b[33;43m'\u001b[39;49m\u001b[43m,\u001b[49m\u001b[43m \u001b[49m\u001b[43minitial_guesses\u001b[49m\u001b[43m,\u001b[49m\u001b[43m \u001b[49m\u001b[43mbounds\u001b[49m\u001b[43m)\u001b[49m\n\u001b[32m    110\u001b[39m \u001b[38;5;66;03m# Print results\u001b[39;00m\n\u001b[32m    111\u001b[39m \u001b[38;5;28mprint\u001b[39m(\u001b[33m\"\u001b[39m\u001b[33mOptimized parameters for:\u001b[39m\u001b[33m\"\u001b[39m)\n",
      "\u001b[36mCell\u001b[39m\u001b[36m \u001b[39m\u001b[32mIn[212]\u001b[39m\u001b[32m, line 87\u001b[39m, in \u001b[36mMACD_Model.tune.<locals>.optimize_metric\u001b[39m\u001b[34m(metric, initial_guesses, bounds)\u001b[39m\n\u001b[32m     84\u001b[39m     \u001b[38;5;28;01mcontinue\u001b[39;00m\n\u001b[32m     86\u001b[39m \u001b[38;5;66;03m# Minimize the chosen metric using L-BFGS-B method\u001b[39;00m\n\u001b[32m---> \u001b[39m\u001b[32m87\u001b[39m result = \u001b[43mopt\u001b[49m\u001b[43m.\u001b[49m\u001b[43mminimize\u001b[49m\u001b[43m(\u001b[49m\u001b[38;5;28;43;01mlambda\u001b[39;49;00m\u001b[43m \u001b[49m\u001b[43mparams\u001b[49m\u001b[43m:\u001b[49m\u001b[43m \u001b[49m\u001b[38;5;28;43mself\u001b[39;49m\u001b[43m.\u001b[49m\u001b[43mcalculate_metrics\u001b[49m\u001b[43m(\u001b[49m\n\u001b[32m     88\u001b[39m \u001b[43m    \u001b[49m\u001b[43mmetric\u001b[49m\u001b[43m,\u001b[49m\u001b[43m \u001b[49m\u001b[38;5;28;43mself\u001b[39;49m\u001b[43m.\u001b[49m\u001b[43m_calculate_returns\u001b[49m\u001b[43m(\u001b[49m\u001b[43mparams\u001b[49m\u001b[43m,\u001b[49m\u001b[43m \u001b[49m\u001b[43mstart\u001b[49m\u001b[43m,\u001b[49m\u001b[43m \u001b[49m\u001b[43mend\u001b[49m\u001b[43m)\u001b[49m\u001b[43m)\u001b[49m\u001b[43m,\u001b[49m\u001b[43m \u001b[49m\n\u001b[32m     89\u001b[39m \u001b[43m    \u001b[49m\u001b[43mguess\u001b[49m\u001b[43m,\u001b[49m\u001b[43m \u001b[49m\u001b[43mbounds\u001b[49m\u001b[43m=\u001b[49m\u001b[43mbounds\u001b[49m\u001b[43m,\u001b[49m\u001b[43m \u001b[49m\u001b[43mmethod\u001b[49m\u001b[43m=\u001b[49m\u001b[33;43m'\u001b[39;49m\u001b[33;43mL-BFGS-B\u001b[39;49m\u001b[33;43m'\u001b[39;49m\u001b[43m)\u001b[49m  \u001b[38;5;66;03m# Changed from Nelder-Mead for efficiency\u001b[39;00m\n\u001b[32m     91\u001b[39m \u001b[38;5;66;03m# Update best parameters and metric value\u001b[39;00m\n\u001b[32m     92\u001b[39m metric_value = result.fun \u001b[38;5;28;01mif\u001b[39;00m metric == \u001b[33m'\u001b[39m\u001b[33mvolatility\u001b[39m\u001b[33m'\u001b[39m \u001b[38;5;28;01melse\u001b[39;00m -result.fun\n",
      "\u001b[36mFile \u001b[39m\u001b[32m/Library/Frameworks/Python.framework/Versions/3.13/lib/python3.13/site-packages/scipy/optimize/_minimize.py:738\u001b[39m, in \u001b[36mminimize\u001b[39m\u001b[34m(fun, x0, args, method, jac, hess, hessp, bounds, constraints, tol, callback, options)\u001b[39m\n\u001b[32m    735\u001b[39m     res = _minimize_newtoncg(fun, x0, args, jac, hess, hessp, callback,\n\u001b[32m    736\u001b[39m                              **options)\n\u001b[32m    737\u001b[39m \u001b[38;5;28;01melif\u001b[39;00m meth == \u001b[33m'\u001b[39m\u001b[33ml-bfgs-b\u001b[39m\u001b[33m'\u001b[39m:\n\u001b[32m--> \u001b[39m\u001b[32m738\u001b[39m     res = \u001b[43m_minimize_lbfgsb\u001b[49m\u001b[43m(\u001b[49m\u001b[43mfun\u001b[49m\u001b[43m,\u001b[49m\u001b[43m \u001b[49m\u001b[43mx0\u001b[49m\u001b[43m,\u001b[49m\u001b[43m \u001b[49m\u001b[43margs\u001b[49m\u001b[43m,\u001b[49m\u001b[43m \u001b[49m\u001b[43mjac\u001b[49m\u001b[43m,\u001b[49m\u001b[43m \u001b[49m\u001b[43mbounds\u001b[49m\u001b[43m,\u001b[49m\n\u001b[32m    739\u001b[39m \u001b[43m                           \u001b[49m\u001b[43mcallback\u001b[49m\u001b[43m=\u001b[49m\u001b[43mcallback\u001b[49m\u001b[43m,\u001b[49m\u001b[43m \u001b[49m\u001b[43m*\u001b[49m\u001b[43m*\u001b[49m\u001b[43moptions\u001b[49m\u001b[43m)\u001b[49m\n\u001b[32m    740\u001b[39m \u001b[38;5;28;01melif\u001b[39;00m meth == \u001b[33m'\u001b[39m\u001b[33mtnc\u001b[39m\u001b[33m'\u001b[39m:\n\u001b[32m    741\u001b[39m     res = _minimize_tnc(fun, x0, args, jac, bounds, callback=callback,\n\u001b[32m    742\u001b[39m                         **options)\n",
      "\u001b[36mFile \u001b[39m\u001b[32m/Library/Frameworks/Python.framework/Versions/3.13/lib/python3.13/site-packages/scipy/optimize/_lbfgsb_py.py:386\u001b[39m, in \u001b[36m_minimize_lbfgsb\u001b[39m\u001b[34m(fun, x0, args, jac, bounds, disp, maxcor, ftol, gtol, eps, maxfun, maxiter, iprint, callback, maxls, finite_diff_rel_step, **unknown_options)\u001b[39m\n\u001b[32m    383\u001b[39m     x0 = np.clip(x0, bounds[\u001b[32m0\u001b[39m], bounds[\u001b[32m1\u001b[39m])\n\u001b[32m    385\u001b[39m \u001b[38;5;66;03m# _prepare_scalar_function can use bounds=None to represent no bounds\u001b[39;00m\n\u001b[32m--> \u001b[39m\u001b[32m386\u001b[39m sf = \u001b[43m_prepare_scalar_function\u001b[49m\u001b[43m(\u001b[49m\u001b[43mfun\u001b[49m\u001b[43m,\u001b[49m\u001b[43m \u001b[49m\u001b[43mx0\u001b[49m\u001b[43m,\u001b[49m\u001b[43m \u001b[49m\u001b[43mjac\u001b[49m\u001b[43m=\u001b[49m\u001b[43mjac\u001b[49m\u001b[43m,\u001b[49m\u001b[43m \u001b[49m\u001b[43margs\u001b[49m\u001b[43m=\u001b[49m\u001b[43margs\u001b[49m\u001b[43m,\u001b[49m\u001b[43m \u001b[49m\u001b[43mepsilon\u001b[49m\u001b[43m=\u001b[49m\u001b[43meps\u001b[49m\u001b[43m,\u001b[49m\n\u001b[32m    387\u001b[39m \u001b[43m                              \u001b[49m\u001b[43mbounds\u001b[49m\u001b[43m=\u001b[49m\u001b[43mbounds\u001b[49m\u001b[43m,\u001b[49m\n\u001b[32m    388\u001b[39m \u001b[43m                              \u001b[49m\u001b[43mfinite_diff_rel_step\u001b[49m\u001b[43m=\u001b[49m\u001b[43mfinite_diff_rel_step\u001b[49m\u001b[43m)\u001b[49m\n\u001b[32m    390\u001b[39m func_and_grad = sf.fun_and_grad\n\u001b[32m    392\u001b[39m nbd = zeros(n, np.int32)\n",
      "\u001b[36mFile \u001b[39m\u001b[32m/Library/Frameworks/Python.framework/Versions/3.13/lib/python3.13/site-packages/scipy/optimize/_optimize.py:291\u001b[39m, in \u001b[36m_prepare_scalar_function\u001b[39m\u001b[34m(fun, x0, jac, args, bounds, epsilon, finite_diff_rel_step, hess)\u001b[39m\n\u001b[32m    287\u001b[39m     bounds = (-np.inf, np.inf)\n\u001b[32m    289\u001b[39m \u001b[38;5;66;03m# ScalarFunction caches. Reuse of fun(x) during grad\u001b[39;00m\n\u001b[32m    290\u001b[39m \u001b[38;5;66;03m# calculation reduces overall function evaluations.\u001b[39;00m\n\u001b[32m--> \u001b[39m\u001b[32m291\u001b[39m sf = \u001b[43mScalarFunction\u001b[49m\u001b[43m(\u001b[49m\u001b[43mfun\u001b[49m\u001b[43m,\u001b[49m\u001b[43m \u001b[49m\u001b[43mx0\u001b[49m\u001b[43m,\u001b[49m\u001b[43m \u001b[49m\u001b[43margs\u001b[49m\u001b[43m,\u001b[49m\u001b[43m \u001b[49m\u001b[43mgrad\u001b[49m\u001b[43m,\u001b[49m\u001b[43m \u001b[49m\u001b[43mhess\u001b[49m\u001b[43m,\u001b[49m\n\u001b[32m    292\u001b[39m \u001b[43m                    \u001b[49m\u001b[43mfinite_diff_rel_step\u001b[49m\u001b[43m,\u001b[49m\u001b[43m \u001b[49m\u001b[43mbounds\u001b[49m\u001b[43m,\u001b[49m\u001b[43m \u001b[49m\u001b[43mepsilon\u001b[49m\u001b[43m=\u001b[49m\u001b[43mepsilon\u001b[49m\u001b[43m)\u001b[49m\n\u001b[32m    294\u001b[39m \u001b[38;5;28;01mreturn\u001b[39;00m sf\n",
      "\u001b[36mFile \u001b[39m\u001b[32m/Library/Frameworks/Python.framework/Versions/3.13/lib/python3.13/site-packages/scipy/optimize/_differentiable_functions.py:223\u001b[39m, in \u001b[36mScalarFunction.__init__\u001b[39m\u001b[34m(self, fun, x0, args, grad, hess, finite_diff_rel_step, finite_diff_bounds, epsilon)\u001b[39m\n\u001b[32m    220\u001b[39m     finite_diff_options[\u001b[33m\"\u001b[39m\u001b[33mas_linear_operator\u001b[39m\u001b[33m\"\u001b[39m] = \u001b[38;5;28;01mTrue\u001b[39;00m\n\u001b[32m    222\u001b[39m \u001b[38;5;66;03m# Initial function evaluation\u001b[39;00m\n\u001b[32m--> \u001b[39m\u001b[32m223\u001b[39m \u001b[38;5;28;43mself\u001b[39;49m\u001b[43m.\u001b[49m\u001b[43m_update_fun\u001b[49m\u001b[43m(\u001b[49m\u001b[43m)\u001b[49m\n\u001b[32m    225\u001b[39m \u001b[38;5;66;03m# Initial gradient evaluation\u001b[39;00m\n\u001b[32m    226\u001b[39m \u001b[38;5;28mself\u001b[39m._wrapped_grad, \u001b[38;5;28mself\u001b[39m._ngev = _wrapper_grad(\n\u001b[32m    227\u001b[39m     grad,\n\u001b[32m    228\u001b[39m     fun=\u001b[38;5;28mself\u001b[39m._wrapped_fun,\n\u001b[32m    229\u001b[39m     args=args,\n\u001b[32m    230\u001b[39m     finite_diff_options=finite_diff_options\n\u001b[32m    231\u001b[39m )\n",
      "\u001b[36mFile \u001b[39m\u001b[32m/Library/Frameworks/Python.framework/Versions/3.13/lib/python3.13/site-packages/scipy/optimize/_differentiable_functions.py:295\u001b[39m, in \u001b[36mScalarFunction._update_fun\u001b[39m\u001b[34m(self)\u001b[39m\n\u001b[32m    293\u001b[39m \u001b[38;5;28;01mdef\u001b[39;00m\u001b[38;5;250m \u001b[39m\u001b[34m_update_fun\u001b[39m(\u001b[38;5;28mself\u001b[39m):\n\u001b[32m    294\u001b[39m     \u001b[38;5;28;01mif\u001b[39;00m \u001b[38;5;129;01mnot\u001b[39;00m \u001b[38;5;28mself\u001b[39m.f_updated:\n\u001b[32m--> \u001b[39m\u001b[32m295\u001b[39m         fx = \u001b[38;5;28;43mself\u001b[39;49m\u001b[43m.\u001b[49m\u001b[43m_wrapped_fun\u001b[49m\u001b[43m(\u001b[49m\u001b[38;5;28;43mself\u001b[39;49m\u001b[43m.\u001b[49m\u001b[43mx\u001b[49m\u001b[43m)\u001b[49m\n\u001b[32m    296\u001b[39m         \u001b[38;5;28;01mif\u001b[39;00m fx < \u001b[38;5;28mself\u001b[39m._lowest_f:\n\u001b[32m    297\u001b[39m             \u001b[38;5;28mself\u001b[39m._lowest_x = \u001b[38;5;28mself\u001b[39m.x\n",
      "\u001b[36mFile \u001b[39m\u001b[32m/Library/Frameworks/Python.framework/Versions/3.13/lib/python3.13/site-packages/scipy/optimize/_differentiable_functions.py:21\u001b[39m, in \u001b[36m_wrapper_fun.<locals>.wrapped\u001b[39m\u001b[34m(x)\u001b[39m\n\u001b[32m     17\u001b[39m ncalls[\u001b[32m0\u001b[39m] += \u001b[32m1\u001b[39m\n\u001b[32m     18\u001b[39m \u001b[38;5;66;03m# Send a copy because the user may overwrite it.\u001b[39;00m\n\u001b[32m     19\u001b[39m \u001b[38;5;66;03m# Overwriting results in undefined behaviour because\u001b[39;00m\n\u001b[32m     20\u001b[39m \u001b[38;5;66;03m# fun(self.x) will change self.x, with the two no longer linked.\u001b[39;00m\n\u001b[32m---> \u001b[39m\u001b[32m21\u001b[39m fx = \u001b[43mfun\u001b[49m\u001b[43m(\u001b[49m\u001b[43mnp\u001b[49m\u001b[43m.\u001b[49m\u001b[43mcopy\u001b[49m\u001b[43m(\u001b[49m\u001b[43mx\u001b[49m\u001b[43m)\u001b[49m\u001b[43m,\u001b[49m\u001b[43m \u001b[49m\u001b[43m*\u001b[49m\u001b[43margs\u001b[49m\u001b[43m)\u001b[49m\n\u001b[32m     22\u001b[39m \u001b[38;5;66;03m# Make sure the function returns a true scalar\u001b[39;00m\n\u001b[32m     23\u001b[39m \u001b[38;5;28;01mif\u001b[39;00m \u001b[38;5;129;01mnot\u001b[39;00m np.isscalar(fx):\n",
      "\u001b[36mCell\u001b[39m\u001b[36m \u001b[39m\u001b[32mIn[212]\u001b[39m\u001b[32m, line 88\u001b[39m, in \u001b[36mMACD_Model.tune.<locals>.optimize_metric.<locals>.<lambda>\u001b[39m\u001b[34m(params)\u001b[39m\n\u001b[32m     84\u001b[39m     \u001b[38;5;28;01mcontinue\u001b[39;00m\n\u001b[32m     86\u001b[39m \u001b[38;5;66;03m# Minimize the chosen metric using L-BFGS-B method\u001b[39;00m\n\u001b[32m     87\u001b[39m result = opt.minimize(\u001b[38;5;28;01mlambda\u001b[39;00m params: \u001b[38;5;28mself\u001b[39m.calculate_metrics(\n\u001b[32m---> \u001b[39m\u001b[32m88\u001b[39m     metric, \u001b[38;5;28;43mself\u001b[39;49m\u001b[43m.\u001b[49m\u001b[43m_calculate_returns\u001b[49m\u001b[43m(\u001b[49m\u001b[43mparams\u001b[49m\u001b[43m,\u001b[49m\u001b[43m \u001b[49m\u001b[43mstart\u001b[49m\u001b[43m,\u001b[49m\u001b[43m \u001b[49m\u001b[43mend\u001b[49m\u001b[43m)\u001b[49m), \n\u001b[32m     89\u001b[39m     guess, bounds=bounds, method=\u001b[33m'\u001b[39m\u001b[33mL-BFGS-B\u001b[39m\u001b[33m'\u001b[39m)  \u001b[38;5;66;03m# Changed from Nelder-Mead for efficiency\u001b[39;00m\n\u001b[32m     91\u001b[39m \u001b[38;5;66;03m# Update best parameters and metric value\u001b[39;00m\n\u001b[32m     92\u001b[39m metric_value = result.fun \u001b[38;5;28;01mif\u001b[39;00m metric == \u001b[33m'\u001b[39m\u001b[33mvolatility\u001b[39m\u001b[33m'\u001b[39m \u001b[38;5;28;01melse\u001b[39;00m -result.fun\n",
      "\u001b[36mCell\u001b[39m\u001b[36m \u001b[39m\u001b[32mIn[212]\u001b[39m\u001b[32m, line 47\u001b[39m, in \u001b[36mMACD_Model._calculate_returns\u001b[39m\u001b[34m(self, params, start, end)\u001b[39m\n\u001b[32m     44\u001b[39m \u001b[38;5;28mself\u001b[39m.set_params(params)  \u001b[38;5;66;03m# Update moving average parameters\u001b[39;00m\n\u001b[32m     46\u001b[39m \u001b[38;5;66;03m# Run the simulation and return daily returns\u001b[39;00m\n\u001b[32m---> \u001b[39m\u001b[32m47\u001b[39m simulation_results, _ = \u001b[38;5;28;43mself\u001b[39;49m\u001b[43m.\u001b[49m\u001b[43mrun_simulation\u001b[49m\u001b[43m(\u001b[49m\u001b[43mstart\u001b[49m\u001b[43m,\u001b[49m\u001b[43m \u001b[49m\u001b[43mend\u001b[49m\u001b[43m)\u001b[49m\n\u001b[32m     48\u001b[39m \u001b[38;5;28mself\u001b[39m.df = df_old  \u001b[38;5;66;03m# Restore original dataframe\u001b[39;00m\n\u001b[32m     49\u001b[39m \u001b[38;5;28;01mreturn\u001b[39;00m simulation_results[\u001b[33m'\u001b[39m\u001b[33mDaily Return\u001b[39m\u001b[33m'\u001b[39m].dropna()\n",
      "\u001b[36mCell\u001b[39m\u001b[36m \u001b[39m\u001b[32mIn[212]\u001b[39m\u001b[32m, line 145\u001b[39m, in \u001b[36mMACD_Model.run_simulation\u001b[39m\u001b[34m(self, start_date, end_date, data)\u001b[39m\n\u001b[32m    143\u001b[39m day = \u001b[32m0\u001b[39m\n\u001b[32m    144\u001b[39m \u001b[38;5;28;01mfor\u001b[39;00m date, row \u001b[38;5;129;01min\u001b[39;00m asset_df.iloc[\u001b[32m1\u001b[39m:].iterrows(): \n\u001b[32m--> \u001b[39m\u001b[32m145\u001b[39m     \u001b[38;5;28;43mself\u001b[39;49m\u001b[43m.\u001b[49m\u001b[43mtrade\u001b[49m\u001b[43m(\u001b[49m\u001b[43mrow\u001b[49m\u001b[43m,\u001b[49m\u001b[43m \u001b[49m\u001b[43mday\u001b[49m\u001b[43m,\u001b[49m\u001b[43m \u001b[49m\u001b[43mdate\u001b[49m\u001b[43m)\u001b[49m\n\u001b[32m    146\u001b[39m     p.append({\u001b[33m'\u001b[39m\u001b[33mCapital\u001b[39m\u001b[33m'\u001b[39m: \u001b[38;5;28mself\u001b[39m.capital, \u001b[33m'\u001b[39m\u001b[33mShares\u001b[39m\u001b[33m'\u001b[39m: \u001b[38;5;28mself\u001b[39m.shares, \n\u001b[32m    147\u001b[39m               \u001b[33m'\u001b[39m\u001b[33mCash\u001b[39m\u001b[33m'\u001b[39m: \u001b[38;5;28mself\u001b[39m.cash, \u001b[33m'\u001b[39m\u001b[33mAsset\u001b[39m\u001b[33m'\u001b[39m: \u001b[38;5;28mself\u001b[39m.invested})\n\u001b[32m    149\u001b[39m \u001b[38;5;66;03m# Record results and calculate metrics\u001b[39;00m\n",
      "\u001b[36mCell\u001b[39m\u001b[36m \u001b[39m\u001b[32mIn[212]\u001b[39m\u001b[32m, line 173\u001b[39m, in \u001b[36mMACD_Model.trade\u001b[39m\u001b[34m(self, data, day_ind, date)\u001b[39m\n\u001b[32m    169\u001b[39m \u001b[38;5;28;01mif\u001b[39;00m pd.notna(data[\u001b[33m'\u001b[39m\u001b[33mMA Long\u001b[39m\u001b[33m'\u001b[39m]) \u001b[38;5;129;01mand\u001b[39;00m pd.notna(data[\u001b[33m'\u001b[39m\u001b[33mMA Short\u001b[39m\u001b[33m'\u001b[39m]):\n\u001b[32m    170\u001b[39m     \u001b[38;5;66;03m# Execute buy/sell based on crossover\u001b[39;00m\n\u001b[32m    171\u001b[39m     \u001b[38;5;28;01mif\u001b[39;00m data[\u001b[33m'\u001b[39m\u001b[33mMA Long\u001b[39m\u001b[33m'\u001b[39m] > data[\u001b[33m'\u001b[39m\u001b[33mMA Short\u001b[39m\u001b[33m'\u001b[39m] \u001b[38;5;129;01mand\u001b[39;00m \u001b[38;5;28mself\u001b[39m.is_long:\n\u001b[32m    172\u001b[39m         \u001b[38;5;66;03m# self._sell(data['Adj Close'])\u001b[39;00m\n\u001b[32m--> \u001b[39m\u001b[32m173\u001b[39m         \u001b[38;5;28mself\u001b[39m._buy(\u001b[43mdata\u001b[49m\u001b[43m[\u001b[49m\u001b[33;43m'\u001b[39;49m\u001b[33;43mAdj Close\u001b[39;49m\u001b[33;43m'\u001b[39;49m\u001b[43m]\u001b[49m)\n\u001b[32m    174\u001b[39m     \u001b[38;5;28;01melif\u001b[39;00m data[\u001b[33m'\u001b[39m\u001b[33mMA Long\u001b[39m\u001b[33m'\u001b[39m] <= data[\u001b[33m'\u001b[39m\u001b[33mMA Short\u001b[39m\u001b[33m'\u001b[39m] \u001b[38;5;129;01mand\u001b[39;00m \u001b[38;5;129;01mnot\u001b[39;00m \u001b[38;5;28mself\u001b[39m.is_long:\n\u001b[32m    175\u001b[39m         \u001b[38;5;66;03m# self._buy(data['Adj Close'])\u001b[39;00m\n\u001b[32m    176\u001b[39m         \u001b[38;5;28mself\u001b[39m._sell(data[\u001b[33m'\u001b[39m\u001b[33mAdj Close\u001b[39m\u001b[33m'\u001b[39m])\n",
      "\u001b[36mFile \u001b[39m\u001b[32m/Library/Frameworks/Python.framework/Versions/3.13/lib/python3.13/site-packages/pandas/core/series.py:1121\u001b[39m, in \u001b[36mSeries.__getitem__\u001b[39m\u001b[34m(self, key)\u001b[39m\n\u001b[32m   1118\u001b[39m     \u001b[38;5;28;01mreturn\u001b[39;00m \u001b[38;5;28mself\u001b[39m._values[key]\n\u001b[32m   1120\u001b[39m \u001b[38;5;28;01melif\u001b[39;00m key_is_scalar:\n\u001b[32m-> \u001b[39m\u001b[32m1121\u001b[39m     \u001b[38;5;28;01mreturn\u001b[39;00m \u001b[38;5;28;43mself\u001b[39;49m\u001b[43m.\u001b[49m\u001b[43m_get_value\u001b[49m\u001b[43m(\u001b[49m\u001b[43mkey\u001b[49m\u001b[43m)\u001b[49m\n\u001b[32m   1123\u001b[39m \u001b[38;5;66;03m# Convert generator to list before going through hashable part\u001b[39;00m\n\u001b[32m   1124\u001b[39m \u001b[38;5;66;03m# (We will iterate through the generator there to check for slices)\u001b[39;00m\n\u001b[32m   1125\u001b[39m \u001b[38;5;28;01mif\u001b[39;00m is_iterator(key):\n",
      "\u001b[36mFile \u001b[39m\u001b[32m/Library/Frameworks/Python.framework/Versions/3.13/lib/python3.13/site-packages/pandas/core/series.py:1237\u001b[39m, in \u001b[36mSeries._get_value\u001b[39m\u001b[34m(self, label, takeable)\u001b[39m\n\u001b[32m   1234\u001b[39m     \u001b[38;5;28;01mreturn\u001b[39;00m \u001b[38;5;28mself\u001b[39m._values[label]\n\u001b[32m   1236\u001b[39m \u001b[38;5;66;03m# Similar to Index.get_value, but we do not fall back to positional\u001b[39;00m\n\u001b[32m-> \u001b[39m\u001b[32m1237\u001b[39m loc = \u001b[38;5;28;43mself\u001b[39;49m\u001b[43m.\u001b[49m\u001b[43mindex\u001b[49m\u001b[43m.\u001b[49m\u001b[43mget_loc\u001b[49m\u001b[43m(\u001b[49m\u001b[43mlabel\u001b[49m\u001b[43m)\u001b[49m\n\u001b[32m   1239\u001b[39m \u001b[38;5;28;01mif\u001b[39;00m is_integer(loc):\n\u001b[32m   1240\u001b[39m     \u001b[38;5;28;01mreturn\u001b[39;00m \u001b[38;5;28mself\u001b[39m._values[loc]\n",
      "\u001b[36mFile \u001b[39m\u001b[32m/Library/Frameworks/Python.framework/Versions/3.13/lib/python3.13/site-packages/pandas/core/indexes/base.py:3805\u001b[39m, in \u001b[36mIndex.get_loc\u001b[39m\u001b[34m(self, key)\u001b[39m\n\u001b[32m   3803\u001b[39m casted_key = \u001b[38;5;28mself\u001b[39m._maybe_cast_indexer(key)\n\u001b[32m   3804\u001b[39m \u001b[38;5;28;01mtry\u001b[39;00m:\n\u001b[32m-> \u001b[39m\u001b[32m3805\u001b[39m     \u001b[38;5;28;01mreturn\u001b[39;00m \u001b[38;5;28;43mself\u001b[39;49m\u001b[43m.\u001b[49m\u001b[43m_engine\u001b[49m\u001b[43m.\u001b[49m\u001b[43mget_loc\u001b[49m\u001b[43m(\u001b[49m\u001b[43mcasted_key\u001b[49m\u001b[43m)\u001b[49m\n\u001b[32m   3806\u001b[39m \u001b[38;5;28;01mexcept\u001b[39;00m \u001b[38;5;167;01mKeyError\u001b[39;00m \u001b[38;5;28;01mas\u001b[39;00m err:\n\u001b[32m   3807\u001b[39m     \u001b[38;5;28;01mif\u001b[39;00m \u001b[38;5;28misinstance\u001b[39m(casted_key, \u001b[38;5;28mslice\u001b[39m) \u001b[38;5;129;01mor\u001b[39;00m (\n\u001b[32m   3808\u001b[39m         \u001b[38;5;28misinstance\u001b[39m(casted_key, abc.Iterable)\n\u001b[32m   3809\u001b[39m         \u001b[38;5;129;01mand\u001b[39;00m \u001b[38;5;28many\u001b[39m(\u001b[38;5;28misinstance\u001b[39m(x, \u001b[38;5;28mslice\u001b[39m) \u001b[38;5;28;01mfor\u001b[39;00m x \u001b[38;5;129;01min\u001b[39;00m casted_key)\n\u001b[32m   3810\u001b[39m     ):\n",
      "\u001b[31mKeyboardInterrupt\u001b[39m: "
     ]
    }
   ],
   "source": [
    "optimized_params = model.tune(0,3000000)"
   ]
  },
  {
   "cell_type": "code",
   "execution_count": 205,
   "metadata": {},
   "outputs": [],
   "source": [
    "import matplotlib.pyplot as plt "
   ]
  },
  {
   "cell_type": "code",
   "execution_count": 207,
   "metadata": {},
   "outputs": [
    {
     "data": {
      "text/plain": [
       "(array([20.,  5.]), array([20.,  5.]), array([20.,  5.]))"
      ]
     },
     "execution_count": 207,
     "metadata": {},
     "output_type": "execute_result"
    }
   ],
   "source": [
    "optimized_params"
   ]
  },
  {
   "cell_type": "code",
   "execution_count": null,
   "metadata": {},
   "outputs": [
    {
     "data": {
      "text/plain": [
       "(np.float64(0.00013954436817309457),\n",
       " np.float64(0.006131296613132213),\n",
       " np.float64(0.02275935694812315))"
      ]
     },
     "execution_count": 210,
     "metadata": {},
     "output_type": "execute_result"
    },
    {
     "data": {
      "image/png": "[encoded data removed]",
      "text/plain": [
       "<Figure size 640x480 with 1 Axes>"
      ]
     },
     "metadata": {},
     "output_type": "display_data"
    }
   ],
   "source": [
    "model.set_params(optimized_params[0])\n",
    "simulation_results,metrics = model.run_simulation(0,3000000)\n",
    "plt.plot(simulation_results['Capital'],label='Cap')\n",
    "# plt.plot(simulation_results['Cash'],label='Cash Value')\n",
    "plt.legend()\n",
    "plt.title('Model Capital 2000-2024')\n",
    "plt.grid()\n",
    "metrics.ret,metrics.vol,metrics.sr"
   ]
  },
  {
   "cell_type": "code",
   "execution_count": null,
   "metadata": {},
   "outputs": [],
   "source": []
  }
 ],
 "metadata": {
  "kernelspec": {
   "display_name": "Python 3",
   "language": "python",
   "name": "python3"
  },
  "language_info": {
   "codemirror_mode": {
    "name": "ipython",
    "version": 3
   },
   "file_extension": ".py",
   "mimetype": "text/x-python",
   "name": "python",
   "nbconvert_exporter": "python",
   "pygments_lexer": "ipython3",
   "version": "3.13.2"
  }
 },
 "nbformat": 4,
 "nbformat_minor": 2
}
